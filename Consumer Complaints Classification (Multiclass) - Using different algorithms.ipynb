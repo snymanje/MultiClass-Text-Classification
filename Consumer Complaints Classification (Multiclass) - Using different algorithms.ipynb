{
 "cells": [
  {
   "cell_type": "markdown",
   "metadata": {},
   "source": [
    "### Import libraries"
   ]
  },
  {
   "cell_type": "code",
   "execution_count": 9,
   "metadata": {},
   "outputs": [],
   "source": [
    "import pandas as pd\n",
    "import numpy as np\n",
    "\n",
    "from sklearn.model_selection import train_test_split, cross_val_score\n",
    "from sklearn.model_selection import RandomizedSearchCV, GridSearchCV\n",
    "\n",
    "from sklearn.ensemble import RandomForestClassifier\n",
    "from sklearn.naive_bayes import MultinomialNB\n",
    "from sklearn.svm import LinearSVC\n",
    "\n",
    "from sklearn.metrics import accuracy_score, precision_score, recall_score, f1_score\n",
    "from sklearn.metrics import classification_report\n",
    "\n",
    "from sklearn.feature_extraction.text import CountVectorizer\n",
    "from sklearn.feature_extraction.text import TfidfVectorizer\n",
    "\n",
    "from sklearn.calibration import CalibratedClassifierCV"
   ]
  },
  {
   "cell_type": "markdown",
   "metadata": {},
   "source": [
    "### Import data and filter only on the needed features an labels"
   ]
  },
  {
   "cell_type": "code",
   "execution_count": 125,
   "metadata": {},
   "outputs": [
    {
     "data": {
      "text/html": [
       "<div>\n",
       "<style scoped>\n",
       "    .dataframe tbody tr th:only-of-type {\n",
       "        vertical-align: middle;\n",
       "    }\n",
       "\n",
       "    .dataframe tbody tr th {\n",
       "        vertical-align: top;\n",
       "    }\n",
       "\n",
       "    .dataframe thead th {\n",
       "        text-align: right;\n",
       "    }\n",
       "</style>\n",
       "<table border=\"1\" class=\"dataframe\">\n",
       "  <thead>\n",
       "    <tr style=\"text-align: right;\">\n",
       "      <th></th>\n",
       "      <th>Product</th>\n",
       "      <th>ConsumerComplaint</th>\n",
       "      <th>category_id</th>\n",
       "    </tr>\n",
       "  </thead>\n",
       "  <tbody>\n",
       "    <tr>\n",
       "      <th>1</th>\n",
       "      <td>Credit reporting</td>\n",
       "      <td>I have outdated information on my credit repor...</td>\n",
       "      <td>0</td>\n",
       "    </tr>\n",
       "    <tr>\n",
       "      <th>7</th>\n",
       "      <td>Credit reporting</td>\n",
       "      <td>An account on my credit report has a mistaken ...</td>\n",
       "      <td>0</td>\n",
       "    </tr>\n",
       "    <tr>\n",
       "      <th>12</th>\n",
       "      <td>Debt collection</td>\n",
       "      <td>This company refuses to provide me verificatio...</td>\n",
       "      <td>2</td>\n",
       "    </tr>\n",
       "    <tr>\n",
       "      <th>16</th>\n",
       "      <td>Debt collection</td>\n",
       "      <td>This complaint is in regards to Square Two Fin...</td>\n",
       "      <td>2</td>\n",
       "    </tr>\n",
       "    <tr>\n",
       "      <th>25</th>\n",
       "      <td>Mortgage</td>\n",
       "      <td>Started the refinance of home mortgage process...</td>\n",
       "      <td>3</td>\n",
       "    </tr>\n",
       "  </tbody>\n",
       "</table>\n",
       "</div>"
      ],
      "text/plain": [
       "             Product                                  ConsumerComplaint  \\\n",
       "1   Credit reporting  I have outdated information on my credit repor...   \n",
       "7   Credit reporting  An account on my credit report has a mistaken ...   \n",
       "12   Debt collection  This company refuses to provide me verificatio...   \n",
       "16   Debt collection  This complaint is in regards to Square Two Fin...   \n",
       "25          Mortgage  Started the refinance of home mortgage process...   \n",
       "\n",
       "    category_id  \n",
       "1             0  \n",
       "7             0  \n",
       "12            2  \n",
       "16            2  \n",
       "25            3  "
      ]
     },
     "execution_count": 125,
     "metadata": {},
     "output_type": "execute_result"
    }
   ],
   "source": [
    "dataset = pd.read_csv('Consumer_Complaints.csv')\n",
    "col = ['Product', 'Consumer Complaint']\n",
    "dataset= dataset[col]\n",
    "\n",
    "# Import data and drop rows with missing labels\n",
    "dataset.dropna(subset=[\"Consumer Complaint\"], inplace=True)\n",
    "dataset.columns=['Product', 'ConsumerComplaint'] # Rename column\n",
    "dataset['category_id'] = dataset['Product'].factorize()[0]\n",
    "\n",
    "# print top 5 rows\n",
    "dataset.head(5)\n",
    "dataset=dataset[dataset['Product'].isin(['Credit reporting', 'Debt collection', 'Mortgage', 'Credit Card','Student loan','Bank account or service'])]\n",
    "dataset['ConsumerComplaint'] = dataset['ConsumerComplaint'].map(lambda x: x.replace('XX',''))\n",
    "dataset['ConsumerComplaint'] = dataset['ConsumerComplaint'].str.replace('\\d+', '')\n",
    "dataset.head()"
   ]
  },
  {
   "cell_type": "code",
   "execution_count": 126,
   "metadata": {},
   "outputs": [
    {
     "data": {
      "text/html": [
       "<div>\n",
       "<style scoped>\n",
       "    .dataframe tbody tr th:only-of-type {\n",
       "        vertical-align: middle;\n",
       "    }\n",
       "\n",
       "    .dataframe tbody tr th {\n",
       "        vertical-align: top;\n",
       "    }\n",
       "\n",
       "    .dataframe thead th {\n",
       "        text-align: right;\n",
       "    }\n",
       "</style>\n",
       "<table border=\"1\" class=\"dataframe\">\n",
       "  <thead>\n",
       "    <tr style=\"text-align: right;\">\n",
       "      <th></th>\n",
       "      <th>Product</th>\n",
       "      <th>ConsumerComplaint</th>\n",
       "      <th>category_id</th>\n",
       "    </tr>\n",
       "  </thead>\n",
       "  <tbody>\n",
       "    <tr>\n",
       "      <th>1</th>\n",
       "      <td>Credit reporting</td>\n",
       "      <td>i have outdated information on my credit repor...</td>\n",
       "      <td>0</td>\n",
       "    </tr>\n",
       "    <tr>\n",
       "      <th>7</th>\n",
       "      <td>Credit reporting</td>\n",
       "      <td>an account on my credit report has a mistaken ...</td>\n",
       "      <td>0</td>\n",
       "    </tr>\n",
       "    <tr>\n",
       "      <th>12</th>\n",
       "      <td>Debt collection</td>\n",
       "      <td>this company refuses to provide me verificatio...</td>\n",
       "      <td>2</td>\n",
       "    </tr>\n",
       "    <tr>\n",
       "      <th>16</th>\n",
       "      <td>Debt collection</td>\n",
       "      <td>this complaint is in regards to square two fin...</td>\n",
       "      <td>2</td>\n",
       "    </tr>\n",
       "    <tr>\n",
       "      <th>25</th>\n",
       "      <td>Mortgage</td>\n",
       "      <td>started the refinance of home mortgage process...</td>\n",
       "      <td>3</td>\n",
       "    </tr>\n",
       "  </tbody>\n",
       "</table>\n",
       "</div>"
      ],
      "text/plain": [
       "             Product                                  ConsumerComplaint  \\\n",
       "1   Credit reporting  i have outdated information on my credit repor...   \n",
       "7   Credit reporting  an account on my credit report has a mistaken ...   \n",
       "12   Debt collection  this company refuses to provide me verificatio...   \n",
       "16   Debt collection  this complaint is in regards to square two fin...   \n",
       "25          Mortgage  started the refinance of home mortgage process...   \n",
       "\n",
       "    category_id  \n",
       "1             0  \n",
       "7             0  \n",
       "12            2  \n",
       "16            2  \n",
       "25            3  "
      ]
     },
     "execution_count": 126,
     "metadata": {},
     "output_type": "execute_result"
    }
   ],
   "source": [
    "# Convert to lowercase\n",
    "dataset['ConsumerComplaint'] = dataset['ConsumerComplaint'].str.lower()\n",
    "dataset.head()"
   ]
  },
  {
   "cell_type": "code",
   "execution_count": 127,
   "metadata": {},
   "outputs": [
    {
     "data": {
      "text/html": [
       "<div>\n",
       "<style scoped>\n",
       "    .dataframe tbody tr th:only-of-type {\n",
       "        vertical-align: middle;\n",
       "    }\n",
       "\n",
       "    .dataframe tbody tr th {\n",
       "        vertical-align: top;\n",
       "    }\n",
       "\n",
       "    .dataframe thead th {\n",
       "        text-align: right;\n",
       "    }\n",
       "</style>\n",
       "<table border=\"1\" class=\"dataframe\">\n",
       "  <thead>\n",
       "    <tr style=\"text-align: right;\">\n",
       "      <th></th>\n",
       "      <th>Product</th>\n",
       "      <th>ConsumerComplaint</th>\n",
       "      <th>category_id</th>\n",
       "    </tr>\n",
       "  </thead>\n",
       "  <tbody>\n",
       "    <tr>\n",
       "      <th>1</th>\n",
       "      <td>Credit reporting</td>\n",
       "      <td>outdated information   credit report    prev...</td>\n",
       "      <td>0</td>\n",
       "    </tr>\n",
       "    <tr>\n",
       "      <th>7</th>\n",
       "      <td>Credit reporting</td>\n",
       "      <td>account   credit report   mistaken date.  mai...</td>\n",
       "      <td>0</td>\n",
       "    </tr>\n",
       "    <tr>\n",
       "      <th>12</th>\n",
       "      <td>Debt collection</td>\n",
       "      <td>company refuses  provide  verification  valid...</td>\n",
       "      <td>2</td>\n",
       "    </tr>\n",
       "    <tr>\n",
       "      <th>16</th>\n",
       "      <td>Debt collection</td>\n",
       "      <td>complaint   regards  square two financial. re...</td>\n",
       "      <td>2</td>\n",
       "    </tr>\n",
       "    <tr>\n",
       "      <th>25</th>\n",
       "      <td>Mortgage</td>\n",
       "      <td>started  refinance  home mortgage process  cas...</td>\n",
       "      <td>3</td>\n",
       "    </tr>\n",
       "  </tbody>\n",
       "</table>\n",
       "</div>"
      ],
      "text/plain": [
       "             Product                                  ConsumerComplaint  \\\n",
       "1   Credit reporting    outdated information   credit report    prev...   \n",
       "7   Credit reporting   account   credit report   mistaken date.  mai...   \n",
       "12   Debt collection   company refuses  provide  verification  valid...   \n",
       "16   Debt collection   complaint   regards  square two financial. re...   \n",
       "25          Mortgage  started  refinance  home mortgage process  cas...   \n",
       "\n",
       "    category_id  \n",
       "1             0  \n",
       "7             0  \n",
       "12            2  \n",
       "16            2  \n",
       "25            3  "
      ]
     },
     "execution_count": 127,
     "metadata": {},
     "output_type": "execute_result"
    }
   ],
   "source": [
    "# Remove stop words\n",
    "stopwords = [ \"________________________________________from\", \"________________\", \"____\", \"00\", \"xxxx\", \"xx\", \"a\", \"about\", \"above\", \"after\", \"again\", \"against\", \"all\", \"am\", \"an\", \"and\", \"any\", \"are\", \"as\", \"at\", \"be\", \"because\", \"been\", \"before\", \"being\", \"below\", \"between\", \"both\", \"but\", \"by\", \"could\", \"did\", \"do\", \"does\", \"doing\", \"down\", \"during\", \"each\", \"few\", \"for\", \"from\", \"further\", \"had\", \"has\", \"have\", \"having\", \"he\", \"he'd\", \"he'll\", \"he's\", \"her\", \"here\", \"here's\", \"hers\", \"herself\", \"him\", \"himself\", \"his\", \"how\", \"how's\", \"i\", \"i'd\", \"i'll\", \"i'm\", \"i've\", \"if\", \"in\", \"into\", \"is\", \"it\", \"it's\", \"its\", \"itself\", \"let's\", \"me\", \"more\", \"most\", \"my\", \"myself\", \"nor\", \"of\", \"on\", \"once\", \"only\", \"or\", \"other\", \"ought\", \"our\", \"ours\", \"ourselves\", \"out\", \"over\", \"own\", \"same\", \"she\", \"she'd\", \"she'll\", \"she's\", \"should\", \"so\", \"some\", \"such\", \"than\", \"that\", \"that's\", \"the\", \"their\", \"theirs\", \"them\", \"themselves\", \"then\", \"there\", \"there's\", \"these\", \"they\", \"they'd\", \"they'll\", \"they're\", \"they've\", \"this\", \"those\", \"through\", \"to\", \"too\", \"under\", \"until\", \"up\", \"very\", \"was\", \"we\", \"we'd\", \"we'll\", \"we're\", \"we've\", \"were\", \"what\", \"what's\", \"when\", \"when's\", \"where\", \"where's\", \"which\", \"while\", \"who\", \"who's\", \"whom\", \"why\", \"why's\", \"with\", \"would\", \"you\", \"you'd\", \"you'll\", \"you're\", \"you've\", \"your\", \"yours\", \"yourself\", \"yourselves\" ]\n",
    "\n",
    "for word in stopwords :\n",
    "    dataset['ConsumerComplaint'] = dataset['ConsumerComplaint'].replace(to_replace=r'\\b%s\\b'%word, value=\"\",regex=True)\n",
    "    \n",
    "dataset.head()"
   ]
  },
  {
   "cell_type": "markdown",
   "metadata": {},
   "source": [
    "### Plot the data"
   ]
  },
  {
   "cell_type": "code",
   "execution_count": 128,
   "metadata": {},
   "outputs": [
    {
     "data": {
      "text/plain": [
       "<matplotlib.axes._subplots.AxesSubplot at 0x1b6d96e1c10>"
      ]
     },
     "execution_count": 128,
     "metadata": {},
     "output_type": "execute_result"
    },
    {
     "data": {
      "image/png": "[encoded data removed]",
      "text/plain": [
       "<Figure size 576x432 with 1 Axes>"
      ]
     },
     "metadata": {
      "needs_background": "light"
     },
     "output_type": "display_data"
    }
   ],
   "source": [
    "# Plot the data\n",
    "\n",
    "import matplotlib.pyplot as plt\n",
    "fig = plt.figure(figsize= (8,6))\n",
    "dataset.groupby('Product').ConsumerComplaint.count().plot.bar(ylim=0)\n"
   ]
  },
  {
   "cell_type": "markdown",
   "metadata": {},
   "source": [
    "### Split the data into training and test sets"
   ]
  },
  {
   "cell_type": "code",
   "execution_count": 129,
   "metadata": {},
   "outputs": [],
   "source": [
    "# Split into X/y\n",
    "x = dataset[\"ConsumerComplaint\"]\n",
    "y = dataset[\"category_id\"]\n",
    "\n",
    "np.random.seed(42)\n",
    "\n",
    "x_train, x_test, y_train, y_test = train_test_split(x, y, test_size=0.1, random_state=4)"
   ]
  },
  {
   "cell_type": "markdown",
   "metadata": {},
   "source": [
    "### Convert text features to numeric"
   ]
  },
  {
   "cell_type": "code",
   "execution_count": 130,
   "metadata": {},
   "outputs": [
    {
     "name": "stdout",
     "output_type": "stream",
     "text": [
      "[[0. 0. 0. ... 0. 0. 0.]\n",
      " [0. 0. 0. ... 0. 0. 0.]\n",
      " [0. 0. 0. ... 0. 0. 0.]\n",
      " ...\n",
      " [0. 0. 0. ... 0. 0. 0.]\n",
      " [0. 0. 0. ... 0. 0. 0.]\n",
      " [0. 0. 0. ... 0. 0. 0.]]\n"
     ]
    }
   ],
   "source": [
    "#cv = CountVectorizer()  # CountVectorizer is an alternative method (normally Tfid is better)\n",
    "cv2 = TfidfVectorizer(sublinear_tf= True, min_df = 1, stop_words='english')\n",
    "\n",
    "X_traincv = cv2.fit_transform(x_train)\n",
    "print(X_traincv.toarray())"
   ]
  },
  {
   "cell_type": "code",
   "execution_count": 131,
   "metadata": {},
   "outputs": [
    {
     "data": {
      "text/plain": [
       "CalibratedClassifierCV(base_estimator=LinearSVC(C=1.0, class_weight=None,\n",
       "                                                dual=True, fit_intercept=True,\n",
       "                                                intercept_scaling=1,\n",
       "                                                loss='squared_hinge',\n",
       "                                                max_iter=1000,\n",
       "                                                multi_class='ovr', penalty='l2',\n",
       "                                                random_state=None, tol=0.0001,\n",
       "                                                verbose=0),\n",
       "                       cv=None, method='sigmoid')"
      ]
     },
     "execution_count": 131,
     "metadata": {},
     "output_type": "execute_result"
    }
   ],
   "source": [
    "# Build machine learning model\n",
    "\n",
    "#model = RandomForestClassifier(random_state = 42)\n",
    "#model = MultinomialNB()\n",
    "#model = LinearSVC()\n",
    "svm = LinearSVC()\n",
    "model = CalibratedClassifierCV(svm) \n",
    "model.fit(X_traincv, y_train)\n",
    "#y_proba = clf.predict_proba(X_test)\n",
    "#model.fit(X_traincv, y_train)"
   ]
  },
  {
   "cell_type": "code",
   "execution_count": 132,
   "metadata": {},
   "outputs": [
    {
     "data": {
      "text/plain": [
       "array([[0., 0., 0., ..., 0., 0., 0.],\n",
       "       [0., 0., 0., ..., 0., 0., 0.],\n",
       "       [0., 0., 0., ..., 0., 0., 0.],\n",
       "       ...,\n",
       "       [0., 0., 0., ..., 0., 0., 0.],\n",
       "       [0., 0., 0., ..., 0., 0., 0.],\n",
       "       [0., 0., 0., ..., 0., 0., 0.]])"
      ]
     },
     "execution_count": 132,
     "metadata": {},
     "output_type": "execute_result"
    }
   ],
   "source": [
    "x_testcv = cv2.transform(x_test)\n",
    "x_testcv.toarray()"
   ]
  },
  {
   "cell_type": "code",
   "execution_count": 133,
   "metadata": {},
   "outputs": [
    {
     "data": {
      "text/plain": [
       "array([3, 0, 7, 2, 2, 2, 2, 0, 0, 0, 2, 2, 0, 3, 7, 6, 2, 6, 0, 6, 0, 0,\n",
       "       3, 2, 3, 6, 3, 7, 6, 0, 2, 6, 2, 6, 7, 3, 2, 2, 3, 0, 2, 7, 0, 2,\n",
       "       2, 3, 3, 0, 3, 0, 0, 2, 2, 2, 2, 3, 3, 3, 3, 2, 3, 0, 2, 0, 3, 2,\n",
       "       2, 3, 7, 0, 0, 3, 2, 2, 2, 2, 3, 2, 2, 3, 2, 0, 3, 3, 2, 3, 2, 3,\n",
       "       2, 6, 6, 6, 0, 7, 7, 3, 2, 2, 2, 2, 6, 3, 3, 0, 7, 3, 2, 2, 2, 3,\n",
       "       6, 2, 0, 0, 7, 2, 2, 3, 0, 2, 3, 3, 7, 2, 2, 3, 2, 2, 3, 0, 2, 3,\n",
       "       3, 2, 6, 2, 2, 0, 3, 0, 3, 2, 3, 7, 2, 2, 3, 2, 2, 0, 6, 2, 2, 3,\n",
       "       3, 7, 2, 3, 0, 2, 6, 3, 6, 0, 0, 0], dtype=int64)"
      ]
     },
     "execution_count": 133,
     "metadata": {},
     "output_type": "execute_result"
    }
   ],
   "source": [
    "model.predict(x_testcv)"
   ]
  },
  {
   "cell_type": "code",
   "execution_count": 134,
   "metadata": {},
   "outputs": [
    {
     "data": {
      "text/plain": [
       "0.9036144578313253"
      ]
     },
     "execution_count": 134,
     "metadata": {},
     "output_type": "execute_result"
    }
   ],
   "source": [
    "model.score(x_testcv, y_test)"
   ]
  },
  {
   "cell_type": "code",
   "execution_count": 135,
   "metadata": {},
   "outputs": [
    {
     "data": {
      "text/html": [
       "<div>\n",
       "<style scoped>\n",
       "    .dataframe tbody tr th:only-of-type {\n",
       "        vertical-align: middle;\n",
       "    }\n",
       "\n",
       "    .dataframe tbody tr th {\n",
       "        vertical-align: top;\n",
       "    }\n",
       "\n",
       "    .dataframe thead th {\n",
       "        text-align: right;\n",
       "    }\n",
       "</style>\n",
       "<table border=\"1\" class=\"dataframe\">\n",
       "  <thead>\n",
       "    <tr style=\"text-align: right;\">\n",
       "      <th></th>\n",
       "      <th>Product</th>\n",
       "      <th>ConsumerComplaint</th>\n",
       "      <th>category_id</th>\n",
       "    </tr>\n",
       "  </thead>\n",
       "  <tbody>\n",
       "    <tr>\n",
       "      <th>1</th>\n",
       "      <td>Credit reporting</td>\n",
       "      <td>outdated information   credit report    prev...</td>\n",
       "      <td>0</td>\n",
       "    </tr>\n",
       "    <tr>\n",
       "      <th>7</th>\n",
       "      <td>Credit reporting</td>\n",
       "      <td>account   credit report   mistaken date.  mai...</td>\n",
       "      <td>0</td>\n",
       "    </tr>\n",
       "    <tr>\n",
       "      <th>12</th>\n",
       "      <td>Debt collection</td>\n",
       "      <td>company refuses  provide  verification  valid...</td>\n",
       "      <td>2</td>\n",
       "    </tr>\n",
       "    <tr>\n",
       "      <th>16</th>\n",
       "      <td>Debt collection</td>\n",
       "      <td>complaint   regards  square two financial. re...</td>\n",
       "      <td>2</td>\n",
       "    </tr>\n",
       "    <tr>\n",
       "      <th>25</th>\n",
       "      <td>Mortgage</td>\n",
       "      <td>started  refinance  home mortgage process  cas...</td>\n",
       "      <td>3</td>\n",
       "    </tr>\n",
       "    <tr>\n",
       "      <th>26</th>\n",
       "      <td>Mortgage</td>\n",
       "      <td>,    ex-husband applied   refinance &amp; heloc  ...</td>\n",
       "      <td>3</td>\n",
       "    </tr>\n",
       "    <tr>\n",
       "      <th>28</th>\n",
       "      <td>Credit reporting</td>\n",
       "      <td>disputed several accounts   credit report  e...</td>\n",
       "      <td>0</td>\n",
       "    </tr>\n",
       "    <tr>\n",
       "      <th>29</th>\n",
       "      <td>Mortgage</td>\n",
       "      <td>mortgage  transferred  nationstar   //. since ...</td>\n",
       "      <td>3</td>\n",
       "    </tr>\n",
       "    <tr>\n",
       "      <th>49</th>\n",
       "      <td>Debt collection</td>\n",
       "      <td>writing  request  assistance  looking   dece...</td>\n",
       "      <td>2</td>\n",
       "    </tr>\n",
       "    <tr>\n",
       "      <th>61</th>\n",
       "      <td>Credit reporting</td>\n",
       "      <td>disputing  inaccurate information  chex-syst...</td>\n",
       "      <td>0</td>\n",
       "    </tr>\n",
       "  </tbody>\n",
       "</table>\n",
       "</div>"
      ],
      "text/plain": [
       "             Product                                  ConsumerComplaint  \\\n",
       "1   Credit reporting    outdated information   credit report    prev...   \n",
       "7   Credit reporting   account   credit report   mistaken date.  mai...   \n",
       "12   Debt collection   company refuses  provide  verification  valid...   \n",
       "16   Debt collection   complaint   regards  square two financial. re...   \n",
       "25          Mortgage  started  refinance  home mortgage process  cas...   \n",
       "26          Mortgage   ,    ex-husband applied   refinance & heloc  ...   \n",
       "28  Credit reporting    disputed several accounts   credit report  e...   \n",
       "29          Mortgage  mortgage  transferred  nationstar   //. since ...   \n",
       "49   Debt collection    writing  request  assistance  looking   dece...   \n",
       "61  Credit reporting    disputing  inaccurate information  chex-syst...   \n",
       "\n",
       "    category_id  \n",
       "1             0  \n",
       "7             0  \n",
       "12            2  \n",
       "16            2  \n",
       "25            3  \n",
       "26            3  \n",
       "28            0  \n",
       "29            3  \n",
       "49            2  \n",
       "61            0  "
      ]
     },
     "execution_count": 135,
     "metadata": {},
     "output_type": "execute_result"
    }
   ],
   "source": [
    "dataset.head(10)"
   ]
  },
  {
   "cell_type": "markdown",
   "metadata": {},
   "source": [
    "### Evaluation metrics"
   ]
  },
  {
   "cell_type": "code",
   "execution_count": 136,
   "metadata": {},
   "outputs": [],
   "source": [
    "def evaluate_preds(y_true, y_preds):\n",
    "    \"\"\"\n",
    "    Performs evaluation comparison on y_true labels vs. y_pred labels\n",
    "    on a classification.\n",
    "    \"\"\"\n",
    "    accuracy = accuracy_score(y_true, y_preds)\n",
    "    precision = precision_score(y_true, y_preds, average='micro')\n",
    "    recall = recall_score(y_true, y_preds, average='micro')\n",
    "    f1 = f1_score(y_true, y_preds, average='micro')\n",
    "    metric_dict = {\"accuracy\": round(accuracy, 2),\n",
    "                   \"precision\": round(precision, 2),\n",
    "                   \"recall\": round(recall, 2),\n",
    "                   \"f1\": round(f1, 2)}\n",
    "    print(f\"Acc: {accuracy * 100:.2f}%\")\n",
    "    print(f\"Precision: {precision:.2f}\")\n",
    "    print(f\"Recall: {recall:.2f}\")\n",
    "    print(f\"F1 score: {f1:.2f}\")\n",
    "    \n",
    "    return metric_dict"
   ]
  },
  {
   "cell_type": "code",
   "execution_count": 137,
   "metadata": {},
   "outputs": [
    {
     "name": "stdout",
     "output_type": "stream",
     "text": [
      "Acc: 90.36%\n",
      "Precision: 0.90\n",
      "Recall: 0.90\n",
      "F1 score: 0.90\n"
     ]
    },
    {
     "data": {
      "text/plain": [
       "{'accuracy': 0.9, 'precision': 0.9, 'recall': 0.9, 'f1': 0.9}"
      ]
     },
     "execution_count": 137,
     "metadata": {},
     "output_type": "execute_result"
    }
   ],
   "source": [
    "predicted = model.predict(x_testcv)\n",
    "evaluate_preds(y_test, predicted)"
   ]
  },
  {
   "cell_type": "code",
   "execution_count": 138,
   "metadata": {},
   "outputs": [
    {
     "data": {
      "text/html": [
       "<div>\n",
       "<style scoped>\n",
       "    .dataframe tbody tr th:only-of-type {\n",
       "        vertical-align: middle;\n",
       "    }\n",
       "\n",
       "    .dataframe tbody tr th {\n",
       "        vertical-align: top;\n",
       "    }\n",
       "\n",
       "    .dataframe thead th {\n",
       "        text-align: right;\n",
       "    }\n",
       "</style>\n",
       "<table border=\"1\" class=\"dataframe\">\n",
       "  <thead>\n",
       "    <tr style=\"text-align: right;\">\n",
       "      <th></th>\n",
       "      <th>Product</th>\n",
       "      <th>category_id</th>\n",
       "    </tr>\n",
       "  </thead>\n",
       "  <tbody>\n",
       "    <tr>\n",
       "      <th>1</th>\n",
       "      <td>Credit reporting</td>\n",
       "      <td>0</td>\n",
       "    </tr>\n",
       "    <tr>\n",
       "      <th>12</th>\n",
       "      <td>Debt collection</td>\n",
       "      <td>2</td>\n",
       "    </tr>\n",
       "    <tr>\n",
       "      <th>25</th>\n",
       "      <td>Mortgage</td>\n",
       "      <td>3</td>\n",
       "    </tr>\n",
       "    <tr>\n",
       "      <th>124</th>\n",
       "      <td>Bank account or service</td>\n",
       "      <td>6</td>\n",
       "    </tr>\n",
       "    <tr>\n",
       "      <th>152</th>\n",
       "      <td>Student loan</td>\n",
       "      <td>7</td>\n",
       "    </tr>\n",
       "  </tbody>\n",
       "</table>\n",
       "</div>"
      ],
      "text/plain": [
       "                     Product  category_id\n",
       "1           Credit reporting            0\n",
       "12           Debt collection            2\n",
       "25                  Mortgage            3\n",
       "124  Bank account or service            6\n",
       "152             Student loan            7"
      ]
     },
     "execution_count": 138,
     "metadata": {},
     "output_type": "execute_result"
    }
   ],
   "source": [
    "uniques = dataset.drop('ConsumerComplaint', axis=1)\n",
    "unique_labels = uniques.drop_duplicates()\n",
    "unique_labels"
   ]
  },
  {
   "cell_type": "code",
   "execution_count": 139,
   "metadata": {},
   "outputs": [
    {
     "name": "stdout",
     "output_type": "stream",
     "text": [
      "Product category id: 7\n",
      "Product Name: Student loan\n",
      "Accuracy score: 89.65253679704989\n"
     ]
    }
   ],
   "source": [
    "inputStr = cv2.transform([\"I need to finance my student loan please\"])\n",
    "results = model.predict(inputStr )\n",
    "acc = model.predict_proba(inputStr)\n",
    "print(f'Product category id: {results[0]}')\n",
    "print(f'Product Name: { np.asarray(unique_labels[unique_labels.category_id.eq(results[0])])[0][0] }')\n",
    "print(f'Accuracy score: { acc.max() * 100}')"
   ]
  },
  {
   "cell_type": "markdown",
   "metadata": {},
   "source": [
    "* ***Accuracy*** is a good measure to start with if all classes are balanced (e.g. same amount of samples which are labelled with 0 or 1).\n",
    "* ***Precision*** and ***recall*** become more important when classes are imbalanced.\n",
    "If false positive predictions are worse than false negatives, aim for higher precision.\n",
    "If false negative predictions are worse than false positives, aim for higher recall.\n",
    "* ***F1-score*** is a combination of precision and recall."
   ]
  },
  {
   "cell_type": "code",
   "execution_count": 140,
   "metadata": {},
   "outputs": [
    {
     "name": "stdout",
     "output_type": "stream",
     "text": [
      "              precision    recall  f1-score   support\n",
      "\n",
      "           0       0.94      0.83      0.88        36\n",
      "           2       0.90      0.93      0.92        59\n",
      "           3       0.86      0.97      0.92        39\n",
      "           6       0.94      0.88      0.91        17\n",
      "           7       0.92      0.80      0.86        15\n",
      "\n",
      "    accuracy                           0.90       166\n",
      "   macro avg       0.91      0.88      0.90       166\n",
      "weighted avg       0.91      0.90      0.90       166\n",
      "\n"
     ]
    }
   ],
   "source": [
    "print(classification_report(y_test, predicted))"
   ]
  },
  {
   "cell_type": "code",
   "execution_count": 141,
   "metadata": {},
   "outputs": [
    {
     "data": {
      "text/html": [
       "<div>\n",
       "<style scoped>\n",
       "    .dataframe tbody tr th:only-of-type {\n",
       "        vertical-align: middle;\n",
       "    }\n",
       "\n",
       "    .dataframe tbody tr th {\n",
       "        vertical-align: top;\n",
       "    }\n",
       "\n",
       "    .dataframe thead th {\n",
       "        text-align: right;\n",
       "    }\n",
       "</style>\n",
       "<table border=\"1\" class=\"dataframe\">\n",
       "  <thead>\n",
       "    <tr style=\"text-align: right;\">\n",
       "      <th>Predicted Labels</th>\n",
       "      <th>0</th>\n",
       "      <th>2</th>\n",
       "      <th>3</th>\n",
       "      <th>6</th>\n",
       "      <th>7</th>\n",
       "    </tr>\n",
       "    <tr>\n",
       "      <th>Actual Labels</th>\n",
       "      <th></th>\n",
       "      <th></th>\n",
       "      <th></th>\n",
       "      <th></th>\n",
       "      <th></th>\n",
       "    </tr>\n",
       "  </thead>\n",
       "  <tbody>\n",
       "    <tr>\n",
       "      <th>0</th>\n",
       "      <td>30</td>\n",
       "      <td>3</td>\n",
       "      <td>3</td>\n",
       "      <td>0</td>\n",
       "      <td>0</td>\n",
       "    </tr>\n",
       "    <tr>\n",
       "      <th>2</th>\n",
       "      <td>1</td>\n",
       "      <td>55</td>\n",
       "      <td>1</td>\n",
       "      <td>1</td>\n",
       "      <td>1</td>\n",
       "    </tr>\n",
       "    <tr>\n",
       "      <th>3</th>\n",
       "      <td>0</td>\n",
       "      <td>1</td>\n",
       "      <td>38</td>\n",
       "      <td>0</td>\n",
       "      <td>0</td>\n",
       "    </tr>\n",
       "    <tr>\n",
       "      <th>6</th>\n",
       "      <td>0</td>\n",
       "      <td>0</td>\n",
       "      <td>2</td>\n",
       "      <td>15</td>\n",
       "      <td>0</td>\n",
       "    </tr>\n",
       "    <tr>\n",
       "      <th>7</th>\n",
       "      <td>1</td>\n",
       "      <td>2</td>\n",
       "      <td>0</td>\n",
       "      <td>0</td>\n",
       "      <td>12</td>\n",
       "    </tr>\n",
       "  </tbody>\n",
       "</table>\n",
       "</div>"
      ],
      "text/plain": [
       "Predicted Labels   0   2   3   6   7\n",
       "Actual Labels                       \n",
       "0                 30   3   3   0   0\n",
       "2                  1  55   1   1   1\n",
       "3                  0   1  38   0   0\n",
       "6                  0   0   2  15   0\n",
       "7                  1   2   0   0  12"
      ]
     },
     "execution_count": 141,
     "metadata": {},
     "output_type": "execute_result"
    }
   ],
   "source": [
    "# Visualize confusion matrix with pd.crosstab()\n",
    "pd.crosstab(y_test,\n",
    "            predicted,\n",
    "            rownames=[\"Actual Labels\"],\n",
    "            colnames=[\"Predicted Labels\"])"
   ]
  },
  {
   "cell_type": "markdown",
   "metadata": {},
   "source": [
    "### Hypertuning with GridSearchCV - Example"
   ]
  },
  {
   "cell_type": "code",
   "execution_count": 142,
   "metadata": {},
   "outputs": [
    {
     "data": {
      "text/plain": [
       "\"\\nparam_grid = {\\n    'bootstrap': [True],\\n    'max_depth': [80, 90, 100, 110],\\n    'max_features': [2, 3],\\n    'min_samples_leaf': [3, 4, 5],\\n    'min_samples_split': [8, 10, 12],\\n    'n_estimators': [100, 200, 300, 1000]\\n}\\n\\n# Create a based model\\nmodel = RandomForestClassifier()\\n# Instantiate the grid search model\\ngrid_search = GridSearchCV(estimator = model, param_grid = param_grid, \\n                          cv = 3, n_jobs = 1, verbose = 2)\\ngrid_search.fit(X_traincv, y_train)\\ngrid_search.best_params_\\n\""
      ]
     },
     "execution_count": 142,
     "metadata": {},
     "output_type": "execute_result"
    }
   ],
   "source": [
    "# Create the parameter grid based on the results of random search \n",
    "\"\"\"\n",
    "param_grid = {\n",
    "    'bootstrap': [True],\n",
    "    'max_depth': [80, 90, 100, 110],\n",
    "    'max_features': [2, 3],\n",
    "    'min_samples_leaf': [3, 4, 5],\n",
    "    'min_samples_split': [8, 10, 12],\n",
    "    'n_estimators': [100, 200, 300, 1000]\n",
    "}\n",
    "\n",
    "# Create a based model\n",
    "model = RandomForestClassifier()\n",
    "# Instantiate the grid search model\n",
    "grid_search = GridSearchCV(estimator = model, param_grid = param_grid, \n",
    "                          cv = 3, n_jobs = 1, verbose = 2)\n",
    "grid_search.fit(X_traincv, y_train)\n",
    "grid_search.best_params_\n",
    "\"\"\""
   ]
  },
  {
   "cell_type": "code",
   "execution_count": null,
   "metadata": {},
   "outputs": [],
   "source": []
  }
 ],
 "metadata": {
  "kernelspec": {
   "display_name": "Python 3",
   "language": "python",
   "name": "python3"
  },
  "language_info": {
   "codemirror_mode": {
    "name": "ipython",
    "version": 3
   },
   "file_extension": ".py",
   "mimetype": "text/x-python",
   "name": "python",
   "nbconvert_exporter": "python",
   "pygments_lexer": "ipython3",
   "version": "3.8.2"
  }
 },
 "nbformat": 4,
 "nbformat_minor": 4
}
