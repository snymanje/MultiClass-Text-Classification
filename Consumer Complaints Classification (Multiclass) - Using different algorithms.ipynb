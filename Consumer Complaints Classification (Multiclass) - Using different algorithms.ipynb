{
 "cells": [
  {
   "cell_type": "markdown",
   "metadata": {},
   "source": [
    "### Import libraries"
   ]
  },
  {
   "cell_type": "code",
   "execution_count": 399,
   "metadata": {},
   "outputs": [],
   "source": [
    "import pandas as pd\n",
    "import numpy as np\n",
    "\n",
    "from sklearn.model_selection import train_test_split, cross_val_score\n",
    "from sklearn.model_selection import RandomizedSearchCV, GridSearchCV\n",
    "\n",
    "from sklearn.ensemble import RandomForestClassifier\n",
    "from sklearn.naive_bayes import MultinomialNB\n",
    "from sklearn.svm import LinearSVC\n",
    "\n",
    "from sklearn.metrics import accuracy_score, precision_score, recall_score\n",
    "from sklearn.metrics import classification_report\n",
    "\n",
    "from sklearn.feature_extraction.text import CountVectorizer\n",
    "from sklearn.feature_extraction.text import TfidfVectorizer"
   ]
  },
  {
   "cell_type": "markdown",
   "metadata": {},
   "source": [
    "### Import data and filter only on the needed features an labels"
   ]
  },
  {
   "cell_type": "code",
   "execution_count": 365,
   "metadata": {},
   "outputs": [
    {
     "data": {
      "text/html": [
       "<div>\n",
       "<style scoped>\n",
       "    .dataframe tbody tr th:only-of-type {\n",
       "        vertical-align: middle;\n",
       "    }\n",
       "\n",
       "    .dataframe tbody tr th {\n",
       "        vertical-align: top;\n",
       "    }\n",
       "\n",
       "    .dataframe thead th {\n",
       "        text-align: right;\n",
       "    }\n",
       "</style>\n",
       "<table border=\"1\" class=\"dataframe\">\n",
       "  <thead>\n",
       "    <tr style=\"text-align: right;\">\n",
       "      <th></th>\n",
       "      <th>Product</th>\n",
       "      <th>ConsumerComplaint</th>\n",
       "      <th>category_id</th>\n",
       "    </tr>\n",
       "  </thead>\n",
       "  <tbody>\n",
       "    <tr>\n",
       "      <th>1</th>\n",
       "      <td>Credit reporting</td>\n",
       "      <td>I have outdated information on my credit repor...</td>\n",
       "      <td>0</td>\n",
       "    </tr>\n",
       "    <tr>\n",
       "      <th>7</th>\n",
       "      <td>Credit reporting</td>\n",
       "      <td>An account on my credit report has a mistaken ...</td>\n",
       "      <td>0</td>\n",
       "    </tr>\n",
       "    <tr>\n",
       "      <th>12</th>\n",
       "      <td>Debt collection</td>\n",
       "      <td>This company refuses to provide me verificatio...</td>\n",
       "      <td>2</td>\n",
       "    </tr>\n",
       "    <tr>\n",
       "      <th>16</th>\n",
       "      <td>Debt collection</td>\n",
       "      <td>This complaint is in regards to Square Two Fin...</td>\n",
       "      <td>2</td>\n",
       "    </tr>\n",
       "    <tr>\n",
       "      <th>25</th>\n",
       "      <td>Mortgage</td>\n",
       "      <td>Started the refinance of home mortgage process...</td>\n",
       "      <td>3</td>\n",
       "    </tr>\n",
       "  </tbody>\n",
       "</table>\n",
       "</div>"
      ],
      "text/plain": [
       "             Product                                  ConsumerComplaint  \\\n",
       "1   Credit reporting  I have outdated information on my credit repor...   \n",
       "7   Credit reporting  An account on my credit report has a mistaken ...   \n",
       "12   Debt collection  This company refuses to provide me verificatio...   \n",
       "16   Debt collection  This complaint is in regards to Square Two Fin...   \n",
       "25          Mortgage  Started the refinance of home mortgage process...   \n",
       "\n",
       "    category_id  \n",
       "1             0  \n",
       "7             0  \n",
       "12            2  \n",
       "16            2  \n",
       "25            3  "
      ]
     },
     "execution_count": 365,
     "metadata": {},
     "output_type": "execute_result"
    }
   ],
   "source": [
    "dataset = pd.read_csv('Consumer_Complaints.csv')\n",
    "col = ['Product', 'Consumer Complaint']\n",
    "dataset= dataset[col]\n",
    "\n",
    "# Import data and drop rows with missing labels\n",
    "dataset.dropna(subset=[\"Consumer Complaint\"], inplace=True)\n",
    "dataset.columns=['Product', 'ConsumerComplaint'] # Rename column\n",
    "dataset['category_id'] = dataset['Product'].factorize()[0]\n",
    "\n",
    "# print top 5 rows\n",
    "dataset.head(5)\n",
    "dataset=dataset[dataset['Product'].isin(['Credit reporting', 'Debt collection', 'Mortgage', 'Credit Card','Student loan','Bank account or service'])]\n",
    "dataset.head(5)"
   ]
  },
  {
   "cell_type": "markdown",
   "metadata": {},
   "source": [
    "### Plot the data"
   ]
  },
  {
   "cell_type": "code",
   "execution_count": 350,
   "metadata": {},
   "outputs": [
    {
     "data": {
      "text/plain": [
       "<matplotlib.axes._subplots.AxesSubplot at 0x15fbc3e12b0>"
      ]
     },
     "execution_count": 350,
     "metadata": {},
     "output_type": "execute_result"
    },
    {
     "data": {
      "image/png": "[encoded data removed]",
      "text/plain": [
       "<Figure size 576x432 with 1 Axes>"
      ]
     },
     "metadata": {
      "needs_background": "light"
     },
     "output_type": "display_data"
    }
   ],
   "source": [
    "# Plot the data\n",
    "\n",
    "import matplotlib.pyplot as plt\n",
    "fig = plt.figure(figsize= (8,6))\n",
    "dataset.groupby('Product').ConsumerComplaint.count().plot.bar(ylim=0)\n"
   ]
  },
  {
   "cell_type": "markdown",
   "metadata": {},
   "source": [
    "### Split the data into training and test sets"
   ]
  },
  {
   "cell_type": "code",
   "execution_count": 370,
   "metadata": {},
   "outputs": [],
   "source": [
    "# Split into X/y\n",
    "x = dataset[\"ConsumerComplaint\"]\n",
    "y = dataset[\"category_id\"]\n",
    "\n",
    "#np.random.seed(42)\n",
    "\n",
    "x_train, x_test, y_train, y_test = train_test_split(x, y, test_size=0.2, random_state=4)"
   ]
  },
  {
   "cell_type": "markdown",
   "metadata": {},
   "source": [
    "### Convert text features to numeric"
   ]
  },
  {
   "cell_type": "code",
   "execution_count": 371,
   "metadata": {},
   "outputs": [
    {
     "name": "stdout",
     "output_type": "stream",
     "text": [
      "[[0.05568191 0.         0.         ... 0.         0.         0.        ]\n",
      " [0.         0.         0.         ... 0.         0.         0.        ]\n",
      " [0.07626254 0.         0.         ... 0.         0.         0.        ]\n",
      " ...\n",
      " [0.         0.         0.         ... 0.         0.         0.        ]\n",
      " [0.         0.         0.         ... 0.         0.         0.        ]\n",
      " [0.04376272 0.         0.         ... 0.         0.         0.        ]]\n"
     ]
    }
   ],
   "source": [
    "#cv = CountVectorizer()  # CountVectorizer is an alternative method (normally Tfid is better)\n",
    "cv2 = TfidfVectorizer(sublinear_tf= True, min_df = 1, stop_words='english')\n",
    "\n",
    "X_traincv = cv2.fit_transform(x_train)\n",
    "print(X_traincv.toarray())"
   ]
  },
  {
   "cell_type": "code",
   "execution_count": 372,
   "metadata": {},
   "outputs": [
    {
     "data": {
      "text/plain": [
       "LinearSVC(C=1.0, class_weight=None, dual=True, fit_intercept=True,\n",
       "          intercept_scaling=1, loss='squared_hinge', max_iter=1000,\n",
       "          multi_class='ovr', penalty='l2', random_state=None, tol=0.0001,\n",
       "          verbose=0)"
      ]
     },
     "execution_count": 372,
     "metadata": {},
     "output_type": "execute_result"
    }
   ],
   "source": [
    "# Build machine learning model\n",
    "\n",
    "#model = RandomForestClassifier(random_state = 42)\n",
    "#model = MultinomialNB()\n",
    "model = LinearSVC()\n",
    "model.fit(X_traincv, y_train)"
   ]
  },
  {
   "cell_type": "code",
   "execution_count": 373,
   "metadata": {},
   "outputs": [
    {
     "data": {
      "text/plain": [
       "array([[0.        , 0.        , 0.        , ..., 0.        , 0.        ,\n",
       "        0.        ],\n",
       "       [0.        , 0.        , 0.        , ..., 0.        , 0.        ,\n",
       "        0.        ],\n",
       "       [0.        , 0.        , 0.        , ..., 0.        , 0.        ,\n",
       "        0.        ],\n",
       "       ...,\n",
       "       [0.08287119, 0.        , 0.        , ..., 0.        , 0.        ,\n",
       "        0.        ],\n",
       "       [0.        , 0.        , 0.        , ..., 0.        , 0.        ,\n",
       "        0.        ],\n",
       "       [0.06511532, 0.        , 0.        , ..., 0.        , 0.        ,\n",
       "        0.        ]])"
      ]
     },
     "execution_count": 373,
     "metadata": {},
     "output_type": "execute_result"
    }
   ],
   "source": [
    "x_testcv = cv2.transform(x_test)\n",
    "x_testcv.toarray()"
   ]
  },
  {
   "cell_type": "code",
   "execution_count": 374,
   "metadata": {},
   "outputs": [
    {
     "data": {
      "text/plain": [
       "array([3, 0, 7, 2, 2, 0, 2, 0, 0, 0, 2, 2, 0, 3, 7, 6, 2, 6, 0, 6, 0, 0,\n",
       "       3, 2, 3, 6, 3, 7, 6, 0, 2, 6, 2, 6, 7, 3, 2, 2, 3, 0, 2, 7, 0, 2,\n",
       "       2, 3, 3, 0, 3, 0, 0, 2, 2, 2, 2, 3, 3, 3, 3, 2, 3, 0, 2, 0, 3, 2,\n",
       "       2, 3, 3, 0, 0, 3, 2, 2, 2, 2, 3, 2, 2, 3, 2, 0, 3, 3, 2, 3, 2, 3,\n",
       "       2, 6, 6, 6, 0, 7, 7, 3, 0, 2, 2, 2, 6, 3, 3, 0, 7, 3, 2, 2, 2, 3,\n",
       "       6, 2, 2, 0, 7, 2, 2, 3, 0, 2, 3, 3, 7, 2, 2, 3, 2, 2, 3, 0, 2, 3,\n",
       "       3, 2, 6, 2, 2, 0, 3, 0, 3, 2, 3, 7, 2, 2, 3, 2, 2, 2, 6, 2, 2, 3,\n",
       "       3, 7, 2, 3, 0, 2, 6, 3, 6, 0, 0, 0, 2, 2, 2, 0, 0, 0, 0, 2, 3, 7,\n",
       "       2, 0, 0, 0, 0, 0, 3, 3, 3, 0, 2, 3, 3, 2, 6, 2, 3, 2, 2, 0, 2, 2,\n",
       "       3, 7, 0, 0, 3, 0, 0, 7, 3, 0, 6, 2, 3, 0, 0, 3, 0, 3, 3, 7, 0, 0,\n",
       "       2, 0, 2, 3, 3, 3, 3, 0, 2, 2, 3, 3, 7, 0, 2, 0, 2, 3, 6, 3, 0, 3,\n",
       "       0, 2, 6, 2, 2, 6, 6, 3, 0, 2, 0, 2, 2, 2, 3, 0, 3, 2, 3, 2, 3, 2,\n",
       "       3, 2, 3, 0, 2, 2, 0, 2, 2, 0, 3, 2, 3, 0, 7, 2, 3, 0, 3, 2, 0, 2,\n",
       "       7, 0, 3, 0, 2, 6, 2, 2, 2, 3, 3, 6, 3, 2, 3, 3, 2, 7, 2, 0, 3, 0,\n",
       "       0, 3, 0, 2, 0, 3, 2, 2, 0, 2, 2, 7, 2, 2, 2, 6, 0, 6, 7, 3, 3, 7,\n",
       "       2], dtype=int64)"
      ]
     },
     "execution_count": 374,
     "metadata": {},
     "output_type": "execute_result"
    }
   ],
   "source": [
    "model.predict(x_testcv)"
   ]
  },
  {
   "cell_type": "code",
   "execution_count": 375,
   "metadata": {},
   "outputs": [
    {
     "data": {
      "text/plain": [
       "0.879154078549849"
      ]
     },
     "execution_count": 375,
     "metadata": {},
     "output_type": "execute_result"
    }
   ],
   "source": [
    "model.score(x_testcv, y_test)"
   ]
  },
  {
   "cell_type": "code",
   "execution_count": 394,
   "metadata": {},
   "outputs": [
    {
     "name": "stdout",
     "output_type": "stream",
     "text": [
      "   0\n",
      "0  2\n",
      "1  3\n",
      "2  0\n"
     ]
    }
   ],
   "source": [
    "results = model.predict(cv2.transform([\"I would like to pay my outstanding balance please\",\n",
    "                             \"Please send me my latest home loan statement\",\n",
    "                             \"My account balance is incorrect\"]))\n",
    "print(pd.DataFrame(results))"
   ]
  },
  {
   "cell_type": "code",
   "execution_count": 386,
   "metadata": {},
   "outputs": [
    {
     "data": {
      "text/html": [
       "<div>\n",
       "<style scoped>\n",
       "    .dataframe tbody tr th:only-of-type {\n",
       "        vertical-align: middle;\n",
       "    }\n",
       "\n",
       "    .dataframe tbody tr th {\n",
       "        vertical-align: top;\n",
       "    }\n",
       "\n",
       "    .dataframe thead th {\n",
       "        text-align: right;\n",
       "    }\n",
       "</style>\n",
       "<table border=\"1\" class=\"dataframe\">\n",
       "  <thead>\n",
       "    <tr style=\"text-align: right;\">\n",
       "      <th></th>\n",
       "      <th>Product</th>\n",
       "      <th>ConsumerComplaint</th>\n",
       "      <th>category_id</th>\n",
       "    </tr>\n",
       "  </thead>\n",
       "  <tbody>\n",
       "    <tr>\n",
       "      <th>1</th>\n",
       "      <td>Credit reporting</td>\n",
       "      <td>I have outdated information on my credit repor...</td>\n",
       "      <td>0</td>\n",
       "    </tr>\n",
       "    <tr>\n",
       "      <th>7</th>\n",
       "      <td>Credit reporting</td>\n",
       "      <td>An account on my credit report has a mistaken ...</td>\n",
       "      <td>0</td>\n",
       "    </tr>\n",
       "    <tr>\n",
       "      <th>12</th>\n",
       "      <td>Debt collection</td>\n",
       "      <td>This company refuses to provide me verificatio...</td>\n",
       "      <td>2</td>\n",
       "    </tr>\n",
       "    <tr>\n",
       "      <th>16</th>\n",
       "      <td>Debt collection</td>\n",
       "      <td>This complaint is in regards to Square Two Fin...</td>\n",
       "      <td>2</td>\n",
       "    </tr>\n",
       "    <tr>\n",
       "      <th>25</th>\n",
       "      <td>Mortgage</td>\n",
       "      <td>Started the refinance of home mortgage process...</td>\n",
       "      <td>3</td>\n",
       "    </tr>\n",
       "    <tr>\n",
       "      <th>26</th>\n",
       "      <td>Mortgage</td>\n",
       "      <td>In XXXX, I and my ex-husband applied for a ref...</td>\n",
       "      <td>3</td>\n",
       "    </tr>\n",
       "    <tr>\n",
       "      <th>28</th>\n",
       "      <td>Credit reporting</td>\n",
       "      <td>I have disputed several accounts on my credit ...</td>\n",
       "      <td>0</td>\n",
       "    </tr>\n",
       "    <tr>\n",
       "      <th>29</th>\n",
       "      <td>Mortgage</td>\n",
       "      <td>Mortgage was transferred to Nationstar as of X...</td>\n",
       "      <td>3</td>\n",
       "    </tr>\n",
       "    <tr>\n",
       "      <th>49</th>\n",
       "      <td>Debt collection</td>\n",
       "      <td>I am writing to request your assistance in loo...</td>\n",
       "      <td>2</td>\n",
       "    </tr>\n",
       "    <tr>\n",
       "      <th>61</th>\n",
       "      <td>Credit reporting</td>\n",
       "      <td>I am disputing the inaccurate information the ...</td>\n",
       "      <td>0</td>\n",
       "    </tr>\n",
       "    <tr>\n",
       "      <th>64</th>\n",
       "      <td>Credit reporting</td>\n",
       "      <td>Checked my credit report after filing complain...</td>\n",
       "      <td>0</td>\n",
       "    </tr>\n",
       "    <tr>\n",
       "      <th>69</th>\n",
       "      <td>Mortgage</td>\n",
       "      <td>Need to move into a XXXX facility. Can no long...</td>\n",
       "      <td>3</td>\n",
       "    </tr>\n",
       "    <tr>\n",
       "      <th>80</th>\n",
       "      <td>Credit reporting</td>\n",
       "      <td>I attempted to open a XXXX XXXX account on XXX...</td>\n",
       "      <td>0</td>\n",
       "    </tr>\n",
       "    <tr>\n",
       "      <th>83</th>\n",
       "      <td>Credit reporting</td>\n",
       "      <td>Experian allowed XXXX to pull a hard credit in...</td>\n",
       "      <td>0</td>\n",
       "    </tr>\n",
       "    <tr>\n",
       "      <th>85</th>\n",
       "      <td>Mortgage</td>\n",
       "      <td>I had an FHA loan at US Bank that was paid off...</td>\n",
       "      <td>3</td>\n",
       "    </tr>\n",
       "    <tr>\n",
       "      <th>95</th>\n",
       "      <td>Mortgage</td>\n",
       "      <td>I went through a divorce several years ago and...</td>\n",
       "      <td>3</td>\n",
       "    </tr>\n",
       "    <tr>\n",
       "      <th>99</th>\n",
       "      <td>Credit reporting</td>\n",
       "      <td>RE : Credit Inquiries Experian Credit Report T...</td>\n",
       "      <td>0</td>\n",
       "    </tr>\n",
       "    <tr>\n",
       "      <th>103</th>\n",
       "      <td>Credit reporting</td>\n",
       "      <td>Experian is reporting an address that is not m...</td>\n",
       "      <td>0</td>\n",
       "    </tr>\n",
       "    <tr>\n",
       "      <th>107</th>\n",
       "      <td>Debt collection</td>\n",
       "      <td>My identity was stolen. I filed a complaint, p...</td>\n",
       "      <td>2</td>\n",
       "    </tr>\n",
       "    <tr>\n",
       "      <th>118</th>\n",
       "      <td>Mortgage</td>\n",
       "      <td>Select Portfolio Servicing has been deceptive ...</td>\n",
       "      <td>3</td>\n",
       "    </tr>\n",
       "  </tbody>\n",
       "</table>\n",
       "</div>"
      ],
      "text/plain": [
       "              Product                                  ConsumerComplaint  \\\n",
       "1    Credit reporting  I have outdated information on my credit repor...   \n",
       "7    Credit reporting  An account on my credit report has a mistaken ...   \n",
       "12    Debt collection  This company refuses to provide me verificatio...   \n",
       "16    Debt collection  This complaint is in regards to Square Two Fin...   \n",
       "25           Mortgage  Started the refinance of home mortgage process...   \n",
       "26           Mortgage  In XXXX, I and my ex-husband applied for a ref...   \n",
       "28   Credit reporting  I have disputed several accounts on my credit ...   \n",
       "29           Mortgage  Mortgage was transferred to Nationstar as of X...   \n",
       "49    Debt collection  I am writing to request your assistance in loo...   \n",
       "61   Credit reporting  I am disputing the inaccurate information the ...   \n",
       "64   Credit reporting  Checked my credit report after filing complain...   \n",
       "69           Mortgage  Need to move into a XXXX facility. Can no long...   \n",
       "80   Credit reporting  I attempted to open a XXXX XXXX account on XXX...   \n",
       "83   Credit reporting  Experian allowed XXXX to pull a hard credit in...   \n",
       "85           Mortgage  I had an FHA loan at US Bank that was paid off...   \n",
       "95           Mortgage  I went through a divorce several years ago and...   \n",
       "99   Credit reporting  RE : Credit Inquiries Experian Credit Report T...   \n",
       "103  Credit reporting  Experian is reporting an address that is not m...   \n",
       "107   Debt collection  My identity was stolen. I filed a complaint, p...   \n",
       "118          Mortgage  Select Portfolio Servicing has been deceptive ...   \n",
       "\n",
       "     category_id  \n",
       "1              0  \n",
       "7              0  \n",
       "12             2  \n",
       "16             2  \n",
       "25             3  \n",
       "26             3  \n",
       "28             0  \n",
       "29             3  \n",
       "49             2  \n",
       "61             0  \n",
       "64             0  \n",
       "69             3  \n",
       "80             0  \n",
       "83             0  \n",
       "85             3  \n",
       "95             3  \n",
       "99             0  \n",
       "103            0  \n",
       "107            2  \n",
       "118            3  "
      ]
     },
     "execution_count": 386,
     "metadata": {},
     "output_type": "execute_result"
    }
   ],
   "source": [
    "dataset.head(20)"
   ]
  },
  {
   "cell_type": "markdown",
   "metadata": {},
   "source": [
    "### Evaluation metrics"
   ]
  },
  {
   "cell_type": "code",
   "execution_count": 387,
   "metadata": {},
   "outputs": [],
   "source": [
    "def evaluate_preds(y_true, y_preds):\n",
    "    \"\"\"\n",
    "    Performs evaluation comparison on y_true labels vs. y_pred labels\n",
    "    on a classification.\n",
    "    \"\"\"\n",
    "    accuracy = accuracy_score(y_true, y_preds)\n",
    "    precision = precision_score(y_true, y_preds, average='micro')\n",
    "    recall = recall_score(y_true, y_preds, average='micro')\n",
    "    f1 = f1_score(y_true, y_preds, average='micro')\n",
    "    metric_dict = {\"accuracy\": round(accuracy, 2),\n",
    "                   \"precision\": round(precision, 2),\n",
    "                   \"recall\": round(recall, 2),\n",
    "                   \"f1\": round(f1, 2)}\n",
    "    print(f\"Acc: {accuracy * 100:.2f}%\")\n",
    "    print(f\"Precision: {precision:.2f}\")\n",
    "    print(f\"Recall: {recall:.2f}\")\n",
    "    print(f\"F1 score: {f1:.2f}\")\n",
    "    \n",
    "    return metric_dict"
   ]
  },
  {
   "cell_type": "code",
   "execution_count": 389,
   "metadata": {},
   "outputs": [
    {
     "name": "stdout",
     "output_type": "stream",
     "text": [
      "Acc: 87.92%\n",
      "Precision: 0.88\n",
      "Recall: 0.88\n",
      "F1 score: 0.88\n"
     ]
    },
    {
     "data": {
      "text/plain": [
       "{'accuracy': 0.88, 'precision': 0.88, 'recall': 0.88, 'f1': 0.88}"
      ]
     },
     "execution_count": 389,
     "metadata": {},
     "output_type": "execute_result"
    }
   ],
   "source": [
    "predicted = model.predict(x_testcv)\n",
    "evaluate_preds(y_test, predicted)"
   ]
  },
  {
   "cell_type": "markdown",
   "metadata": {},
   "source": [
    "* ***Accuracy*** is a good measure to start with if all classes are balanced (e.g. same amount of samples which are labelled with 0 or 1).\n",
    "* ***Precision*** and ***recall*** become more important when classes are imbalanced.\n",
    "If false positive predictions are worse than false negatives, aim for higher precision.\n",
    "If false negative predictions are worse than false positives, aim for higher recall.\n",
    "* ***F1-score*** is a combination of precision and recall."
   ]
  },
  {
   "cell_type": "code",
   "execution_count": 397,
   "metadata": {},
   "outputs": [
    {
     "name": "stdout",
     "output_type": "stream",
     "text": [
      "              precision    recall  f1-score   support\n",
      "\n",
      "           0       0.88      0.84      0.86        81\n",
      "           2       0.88      0.92      0.90       110\n",
      "           3       0.86      0.96      0.91        80\n",
      "           6       0.92      0.83      0.87        29\n",
      "           7       0.91      0.68      0.78        31\n",
      "\n",
      "    accuracy                           0.88       331\n",
      "   macro avg       0.89      0.85      0.86       331\n",
      "weighted avg       0.88      0.88      0.88       331\n",
      "\n"
     ]
    }
   ],
   "source": [
    "print(classification_report(y_test, predicted))"
   ]
  },
  {
   "cell_type": "code",
   "execution_count": 364,
   "metadata": {},
   "outputs": [
    {
     "data": {
      "text/html": [
       "<div>\n",
       "<style scoped>\n",
       "    .dataframe tbody tr th:only-of-type {\n",
       "        vertical-align: middle;\n",
       "    }\n",
       "\n",
       "    .dataframe tbody tr th {\n",
       "        vertical-align: top;\n",
       "    }\n",
       "\n",
       "    .dataframe thead th {\n",
       "        text-align: right;\n",
       "    }\n",
       "</style>\n",
       "<table border=\"1\" class=\"dataframe\">\n",
       "  <thead>\n",
       "    <tr style=\"text-align: right;\">\n",
       "      <th>Predicted Labels</th>\n",
       "      <th>0</th>\n",
       "      <th>2</th>\n",
       "      <th>3</th>\n",
       "      <th>6</th>\n",
       "      <th>7</th>\n",
       "    </tr>\n",
       "    <tr>\n",
       "      <th>Actual Labels</th>\n",
       "      <th></th>\n",
       "      <th></th>\n",
       "      <th></th>\n",
       "      <th></th>\n",
       "      <th></th>\n",
       "    </tr>\n",
       "  </thead>\n",
       "  <tbody>\n",
       "    <tr>\n",
       "      <th>0</th>\n",
       "      <td>68</td>\n",
       "      <td>7</td>\n",
       "      <td>5</td>\n",
       "      <td>1</td>\n",
       "      <td>0</td>\n",
       "    </tr>\n",
       "    <tr>\n",
       "      <th>2</th>\n",
       "      <td>5</td>\n",
       "      <td>101</td>\n",
       "      <td>1</td>\n",
       "      <td>1</td>\n",
       "      <td>2</td>\n",
       "    </tr>\n",
       "    <tr>\n",
       "      <th>3</th>\n",
       "      <td>1</td>\n",
       "      <td>2</td>\n",
       "      <td>77</td>\n",
       "      <td>0</td>\n",
       "      <td>0</td>\n",
       "    </tr>\n",
       "    <tr>\n",
       "      <th>6</th>\n",
       "      <td>1</td>\n",
       "      <td>2</td>\n",
       "      <td>2</td>\n",
       "      <td>24</td>\n",
       "      <td>0</td>\n",
       "    </tr>\n",
       "    <tr>\n",
       "      <th>7</th>\n",
       "      <td>2</td>\n",
       "      <td>3</td>\n",
       "      <td>5</td>\n",
       "      <td>0</td>\n",
       "      <td>21</td>\n",
       "    </tr>\n",
       "  </tbody>\n",
       "</table>\n",
       "</div>"
      ],
      "text/plain": [
       "Predicted Labels   0    2   3   6   7\n",
       "Actual Labels                        \n",
       "0                 68    7   5   1   0\n",
       "2                  5  101   1   1   2\n",
       "3                  1    2  77   0   0\n",
       "6                  1    2   2  24   0\n",
       "7                  2    3   5   0  21"
      ]
     },
     "execution_count": 364,
     "metadata": {},
     "output_type": "execute_result"
    }
   ],
   "source": [
    "# Visualize confusion matrix with pd.crosstab()\n",
    "pd.crosstab(y_test,\n",
    "            predicted,\n",
    "            rownames=[\"Actual Labels\"],\n",
    "            colnames=[\"Predicted Labels\"])"
   ]
  },
  {
   "cell_type": "markdown",
   "metadata": {},
   "source": [
    "### Hypertuning with GridSearchCV - Example"
   ]
  },
  {
   "cell_type": "code",
   "execution_count": null,
   "metadata": {},
   "outputs": [],
   "source": [
    "# Create the parameter grid based on the results of random search \n",
    "param_grid = {\n",
    "    'bootstrap': [True],\n",
    "    'max_depth': [80, 90, 100, 110],\n",
    "    'max_features': [2, 3],\n",
    "    'min_samples_leaf': [3, 4, 5],\n",
    "    'min_samples_split': [8, 10, 12],\n",
    "    'n_estimators': [100, 200, 300, 1000]\n",
    "}\n",
    "\n",
    "# Create a based model\n",
    "model = RandomForestClassifier()\n",
    "# Instantiate the grid search model\n",
    "grid_search = GridSearchCV(estimator = model, param_grid = param_grid, \n",
    "                          cv = 3, n_jobs = 1, verbose = 2)\n",
    "grid_search.fit(X_traincv, y_train)\n",
    "grid_search.best_params_"
   ]
  }
 ],
 "metadata": {
  "kernelspec": {
   "display_name": "Python 3",
   "language": "python",
   "name": "python3"
  },
  "language_info": {
   "codemirror_mode": {
    "name": "ipython",
    "version": 3
   },
   "file_extension": ".py",
   "mimetype": "text/x-python",
   "name": "python",
   "nbconvert_exporter": "python",
   "pygments_lexer": "ipython3",
   "version": "3.8.2"
  }
 },
 "nbformat": 4,
 "nbformat_minor": 4
}
