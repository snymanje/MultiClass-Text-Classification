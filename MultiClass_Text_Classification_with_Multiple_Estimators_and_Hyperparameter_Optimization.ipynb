{
  "nbformat": 4,
  "nbformat_minor": 0,
  "metadata": {
    "kernelspec": {
      "display_name": "Python 3",
      "language": "python",
      "name": "python3"
    },
    "language_info": {
      "codemirror_mode": {
        "name": "ipython",
        "version": 3
      },
      "file_extension": ".py",
      "mimetype": "text/x-python",
      "name": "python",
      "nbconvert_exporter": "python",
      "pygments_lexer": "ipython3",
      "version": "3.8.2"
    },
    "colab": {
      "name": "MultiClass Text Classification with Multiple Estimators and Hyperparameter Optimization.ipynb",
      "provenance": [],
      "collapsed_sections": [],
      "include_colab_link": true
    }
  },
  "cells": [
    {
      "cell_type": "markdown",
      "metadata": {
        "id": "view-in-github",
        "colab_type": "text"
      },
      "source": [
        "<a href=\"https://colab.research.google.com/github/snymanje/MultiClass-Text-Classification/blob/master/MultiClass_Text_Classification_with_Multiple_Estimators_and_Hyperparameter_Optimization.ipynb\" target=\"_parent\"><img src=\"https://colab.research.google.com/assets/colab-badge.svg\" alt=\"Open In Colab\"/></a>"
      ]
    },
    {
      "cell_type": "markdown",
      "metadata": {
        "id": "nxWTE3fL2Kbk",
        "colab_type": "text"
      },
      "source": [
        "## **Evaluating multiple models ( Customer Complaints Classification )**"
      ]
    },
    {
      "cell_type": "markdown",
      "metadata": {
        "id": "Aa8AnXKyxNGC",
        "colab_type": "text"
      },
      "source": [
        "### **Get the data ready**\n",
        "\n",
        "As an example dataset, we'll import Consumer_Complaints.csv."
      ]
    },
    {
      "cell_type": "code",
      "metadata": {
        "id": "ouNXtzl52Kby",
        "colab_type": "code",
        "outputId": "acbad752-50bf-49c6-c152-db535ea2a20f",
        "colab": {
          "base_uri": "https://localhost:8080/",
          "height": 204
        }
      },
      "source": [
        "# Import data and filter only on the needed features an labels\n",
        "import pandas as pd\n",
        "import numpy as np\n",
        "\n",
        "dataset = pd.read_csv('drive/My Drive/Colab Notebooks/Consumer_Complaints.csv')\n",
        "\n",
        "# Select only the Product and Consumer Complaint columns  \n",
        "col = ['Product', 'Consumer Complaint']\n",
        "dataset= dataset[col]\n",
        "\n",
        "# Drop rows with missing labels\n",
        "dataset.dropna(subset=[\"Consumer Complaint\"], inplace=True)\n",
        "\n",
        "# Rename column\n",
        "dataset.columns=['Product', 'ConsumerComplaint'] \n",
        "\n",
        "# Convert the label (Product) to numeric using the pd factorize function \n",
        "dataset['category_id'] = dataset['Product'].factorize()[0]\n",
        "\n",
        "# Only include the following products\n",
        "dataset=dataset[dataset['Product'].isin(['Credit reporting', 'Debt collection', 'Mortgage', 'Credit Card','Student loan','Bank account or service'])]\n",
        "\n",
        "# Print the top 5 rows\n",
        "dataset.head()"
      ],
      "execution_count": 35,
      "outputs": [
        {
          "output_type": "execute_result",
          "data": {
            "text/html": [
              "<div>\n",
              "<style scoped>\n",
              "    .dataframe tbody tr th:only-of-type {\n",
              "        vertical-align: middle;\n",
              "    }\n",
              "\n",
              "    .dataframe tbody tr th {\n",
              "        vertical-align: top;\n",
              "    }\n",
              "\n",
              "    .dataframe thead th {\n",
              "        text-align: right;\n",
              "    }\n",
              "</style>\n",
              "<table border=\"1\" class=\"dataframe\">\n",
              "  <thead>\n",
              "    <tr style=\"text-align: right;\">\n",
              "      <th></th>\n",
              "      <th>Product</th>\n",
              "      <th>ConsumerComplaint</th>\n",
              "      <th>category_id</th>\n",
              "    </tr>\n",
              "  </thead>\n",
              "  <tbody>\n",
              "    <tr>\n",
              "      <th>1</th>\n",
              "      <td>Credit reporting</td>\n",
              "      <td>I have outdated information on my credit repor...</td>\n",
              "      <td>0</td>\n",
              "    </tr>\n",
              "    <tr>\n",
              "      <th>7</th>\n",
              "      <td>Credit reporting</td>\n",
              "      <td>An account on my credit report has a mistaken ...</td>\n",
              "      <td>0</td>\n",
              "    </tr>\n",
              "    <tr>\n",
              "      <th>12</th>\n",
              "      <td>Debt collection</td>\n",
              "      <td>This company refuses to provide me verificatio...</td>\n",
              "      <td>2</td>\n",
              "    </tr>\n",
              "    <tr>\n",
              "      <th>16</th>\n",
              "      <td>Debt collection</td>\n",
              "      <td>This complaint is in regards to Square Two Fin...</td>\n",
              "      <td>2</td>\n",
              "    </tr>\n",
              "    <tr>\n",
              "      <th>25</th>\n",
              "      <td>Mortgage</td>\n",
              "      <td>Started the refinance of home mortgage process...</td>\n",
              "      <td>3</td>\n",
              "    </tr>\n",
              "  </tbody>\n",
              "</table>\n",
              "</div>"
            ],
            "text/plain": [
              "             Product  ... category_id\n",
              "1   Credit reporting  ...           0\n",
              "7   Credit reporting  ...           0\n",
              "12   Debt collection  ...           2\n",
              "16   Debt collection  ...           2\n",
              "25          Mortgage  ...           3\n",
              "\n",
              "[5 rows x 3 columns]"
            ]
          },
          "metadata": {
            "tags": []
          },
          "execution_count": 35
        }
      ]
    },
    {
      "cell_type": "markdown",
      "metadata": {
        "id": "z2Q2EdyF_E26",
        "colab_type": "text"
      },
      "source": [
        "#### **How clean is the text?**"
      ]
    },
    {
      "cell_type": "code",
      "metadata": {
        "id": "oKBPa_Ya2Kb4",
        "colab_type": "code",
        "outputId": "93f71ed7-51f7-4c4e-f4e8-8e16dda77399",
        "colab": {
          "base_uri": "https://localhost:8080/",
          "height": 71
        }
      },
      "source": [
        "dataset[\"ConsumerComplaint\"].to_list()[:2]"
      ],
      "execution_count": 17,
      "outputs": [
        {
          "output_type": "execute_result",
          "data": {
            "text/plain": [
              "['I have outdated information on my credit report that I have previously disputed that has yet to be removed this information is more then seven years old and does not meet credit reporting requirements',\n",
              " 'An account on my credit report has a mistaken date. I mailed in a debt validation letter to allow XXXX to correct the information. I received a letter in the mail, stating that Experian received my correspondence and found it to be \" suspicious \\'\\' and that \" I did n\\'t write it \\'\\'. Experian \\'s letter is worded to imply that I am incapable of writing my own letter. I was deeply offended by this implication. \\nI called Experian to figure out why my letter was so suspicious. I spoke to a representative who was incredibly unhelpful, She did not effectively answer any questions I asked of her, and she kept ignoring what I was saying regarding the offensive letter and my dispute process. I feel the representative did what she wanted to do, and I am not satisfied. It is STILL not clear to me why I received this letter. I typed this letter, I signed this letter, and I paid to mail this letter, yet Experian willfully disregarded my lawful request. \\nI am disgusted with this entire situation, and I would like for my dispute to be handled appropriately, and I would like for an Experian representative to contact me and give me a real explanation for this letter.']"
            ]
          },
          "metadata": {
            "tags": []
          },
          "execution_count": 17
        }
      ]
    },
    {
      "cell_type": "markdown",
      "metadata": {
        "id": "Q8Iv5gd3_LhW",
        "colab_type": "text"
      },
      "source": [
        "#### **Run data through cleanup function**"
      ]
    },
    {
      "cell_type": "code",
      "metadata": {
        "id": "Rm4Rnola2Kb-",
        "colab_type": "code",
        "colab": {
          "base_uri": "https://localhost:8080/",
          "height": 51
        },
        "outputId": "da36a502-c69d-4266-8f1b-8af215392d52"
      },
      "source": [
        "import re\n",
        "import nltk\n",
        "nltk.download('stopwords')\n",
        "from nltk.corpus import stopwords\n",
        "\n",
        "# Lets do some text cleanup\n",
        "REPLACE_BY_SPACE_RE = re.compile('[/(){}\\[\\]\\|@,;]')\n",
        "BAD_SYMBOLS_RE = re.compile('[^0-9a-z #+_]')\n",
        "REMOVE_NUM = re.compile('[\\d+]')\n",
        "STOPWORDS = set(stopwords.words('english'))\n",
        "\n",
        "def clean_text(text):\n",
        "    \"\"\"\n",
        "        text: a string\n",
        "        \n",
        "        return: modified initial string\n",
        "    \"\"\"\n",
        "    text = text.lower() # lowercase text\n",
        "    text = REPLACE_BY_SPACE_RE.sub(' ', text) # replace REPLACE_BY_SPACE_RE symbols by space in text\n",
        "    text = text.replace('x', '') # Remove the XXXX values\n",
        "    text = REMOVE_NUM.sub('', text)\n",
        "    text = BAD_SYMBOLS_RE.sub('', text) # delete symbols which are in BAD_SYMBOLS_RE from text\n",
        "    text = ' '.join(word for word in text.split() if word not in STOPWORDS) # delete stopwors from text\n",
        "    return text\n",
        "    \n",
        "dataset[\"ConsumerComplaint\"] = dataset[\"ConsumerComplaint\"].apply(clean_text)"
      ],
      "execution_count": 18,
      "outputs": [
        {
          "output_type": "stream",
          "text": [
            "[nltk_data] Downloading package stopwords to /root/nltk_data...\n",
            "[nltk_data]   Unzipping corpora/stopwords.zip.\n"
          ],
          "name": "stdout"
        }
      ]
    },
    {
      "cell_type": "markdown",
      "metadata": {
        "id": "hFNWR30I_Wwa",
        "colab_type": "text"
      },
      "source": [
        "#### **How clean is the text now?**"
      ]
    },
    {
      "cell_type": "code",
      "metadata": {
        "id": "iZbtR4Z92KcE",
        "colab_type": "code",
        "outputId": "8721db25-d451-4c1e-9fc6-2243df2c6edf",
        "colab": {
          "base_uri": "https://localhost:8080/",
          "height": 122
        }
      },
      "source": [
        "dataset[\"ConsumerComplaint\"].to_list()[:5]"
      ],
      "execution_count": 19,
      "outputs": [
        {
          "output_type": "execute_result",
          "data": {
            "text/plain": [
              "['outdated information credit report previously disputed yet removed information seven years old meet credit reporting requirements',\n",
              " 'account credit report mistaken date mailed debt validation letter allow correct information received letter mail stating eperian received correspondence found suspicious nt write eperian letter worded imply incapable writing letter deeply offended implication called eperian figure letter suspicious spoke representative incredibly unhelpful effectively answer questions asked kept ignoring saying regarding offensive letter dispute process feel representative wanted satisfied still clear received letter typed letter signed letter paid mail letter yet eperian willfully disregarded lawful request disgusted entire situation would like dispute handled appropriately would like eperian representative contact give real eplanation letter',\n",
              " 'company refuses provide verification validation debt per right fdcpa believe debt mine',\n",
              " 'complaint regards square two financial refer cfpb case number regarding cach l l c square two financial utilized entire social security number include date birth pfd document listed complaint initial complaint cach l l c square two financial breach following identity theft assumption deterrence act privacy act social security privacy actwhich carries maimum fine calendar cap year breach title solution cach llc handle correction square two financial two square financial submitted subscriber name form listed cfpb case # rendered liable matter addition account number associated universal data form could use account number instead ssn dob also includes removal form cfpb case # listed pdf document attached case number square two financial contacted email regards matter addition information sale distribution via fa fascanned copied stored retrieval system recorded transmitted digitally electronically without epressed written consent information protected copyright publishing laws information protected freedom speech include uniform commercial codes rights reserved world wide',\n",
              " 'started refinance home mortgage process cash option necessary documents submitted initial review got good faith estimate loan amount closing cost based estimate deposit made towards appraisal appraisal came lesser amount agreed reduce loan amount etent however got revised estimate less additional closing cost towards points etc got numerous revised estimates different loan amounts closing cost took months reach definite closing document hence want get back deposit']"
            ]
          },
          "metadata": {
            "tags": []
          },
          "execution_count": 19
        }
      ]
    },
    {
      "cell_type": "code",
      "metadata": {
        "id": "8H7v6G_G2KcJ",
        "colab_type": "code",
        "outputId": "9f9ae389-2377-445d-ecc8-dfe00e6ea564",
        "colab": {
          "base_uri": "https://localhost:8080/",
          "height": 204
        }
      },
      "source": [
        "dataset.head()"
      ],
      "execution_count": 20,
      "outputs": [
        {
          "output_type": "execute_result",
          "data": {
            "text/html": [
              "<div>\n",
              "<style scoped>\n",
              "    .dataframe tbody tr th:only-of-type {\n",
              "        vertical-align: middle;\n",
              "    }\n",
              "\n",
              "    .dataframe tbody tr th {\n",
              "        vertical-align: top;\n",
              "    }\n",
              "\n",
              "    .dataframe thead th {\n",
              "        text-align: right;\n",
              "    }\n",
              "</style>\n",
              "<table border=\"1\" class=\"dataframe\">\n",
              "  <thead>\n",
              "    <tr style=\"text-align: right;\">\n",
              "      <th></th>\n",
              "      <th>Product</th>\n",
              "      <th>ConsumerComplaint</th>\n",
              "      <th>category_id</th>\n",
              "    </tr>\n",
              "  </thead>\n",
              "  <tbody>\n",
              "    <tr>\n",
              "      <th>1</th>\n",
              "      <td>Credit reporting</td>\n",
              "      <td>outdated information credit report previously ...</td>\n",
              "      <td>0</td>\n",
              "    </tr>\n",
              "    <tr>\n",
              "      <th>7</th>\n",
              "      <td>Credit reporting</td>\n",
              "      <td>account credit report mistaken date mailed deb...</td>\n",
              "      <td>0</td>\n",
              "    </tr>\n",
              "    <tr>\n",
              "      <th>12</th>\n",
              "      <td>Debt collection</td>\n",
              "      <td>company refuses provide verification validatio...</td>\n",
              "      <td>2</td>\n",
              "    </tr>\n",
              "    <tr>\n",
              "      <th>16</th>\n",
              "      <td>Debt collection</td>\n",
              "      <td>complaint regards square two financial refer c...</td>\n",
              "      <td>2</td>\n",
              "    </tr>\n",
              "    <tr>\n",
              "      <th>25</th>\n",
              "      <td>Mortgage</td>\n",
              "      <td>started refinance home mortgage process cash o...</td>\n",
              "      <td>3</td>\n",
              "    </tr>\n",
              "  </tbody>\n",
              "</table>\n",
              "</div>"
            ],
            "text/plain": [
              "             Product  ... category_id\n",
              "1   Credit reporting  ...           0\n",
              "7   Credit reporting  ...           0\n",
              "12   Debt collection  ...           2\n",
              "16   Debt collection  ...           2\n",
              "25          Mortgage  ...           3\n",
              "\n",
              "[5 rows x 3 columns]"
            ]
          },
          "metadata": {
            "tags": []
          },
          "execution_count": 20
        }
      ]
    },
    {
      "cell_type": "markdown",
      "metadata": {
        "id": "WIZW7LYk2KcO",
        "colab_type": "text"
      },
      "source": [
        "### Plot the data"
      ]
    },
    {
      "cell_type": "code",
      "metadata": {
        "id": "CPWEZRfuveBI",
        "colab_type": "code",
        "colab": {
          "base_uri": "https://localhost:8080/",
          "height": 369
        },
        "outputId": "7389885e-356b-43b8-f283-3a3cd5a70a24"
      },
      "source": [
        "import seaborn as sns\n",
        "import matplotlib.pyplot as plt\n",
        "\n",
        "sns.set_style('whitegrid')\n",
        "plt.figure(figsize=(8, 5))\n",
        "ax = sns.countplot(x='Product', data=dataset)\n",
        "ax.set_xticklabels(ax.get_xticklabels(), rotation=40, ha=\"right\")\n",
        "plt.tight_layout()"
      ],
      "execution_count": 21,
      "outputs": [
        {
          "output_type": "display_data",
          "data": {
            "image/png": "[encoded data removed]",
            "text/plain": [
              "<Figure size 576x360 with 1 Axes>"
            ]
          },
          "metadata": {
            "tags": []
          }
        }
      ]
    },
    {
      "cell_type": "code",
      "metadata": {
        "id": "Qby5zEWrG6Ks",
        "colab_type": "code",
        "colab": {
          "base_uri": "https://localhost:8080/",
          "height": 204
        },
        "outputId": "cc9c5a16-ee61-4c7d-9362-7823c5d6705f"
      },
      "source": [
        "# Shuffel the dataset\n",
        "dataset = dataset.sample(frac=1)\n",
        "dataset.head()"
      ],
      "execution_count": 22,
      "outputs": [
        {
          "output_type": "execute_result",
          "data": {
            "text/html": [
              "<div>\n",
              "<style scoped>\n",
              "    .dataframe tbody tr th:only-of-type {\n",
              "        vertical-align: middle;\n",
              "    }\n",
              "\n",
              "    .dataframe tbody tr th {\n",
              "        vertical-align: top;\n",
              "    }\n",
              "\n",
              "    .dataframe thead th {\n",
              "        text-align: right;\n",
              "    }\n",
              "</style>\n",
              "<table border=\"1\" class=\"dataframe\">\n",
              "  <thead>\n",
              "    <tr style=\"text-align: right;\">\n",
              "      <th></th>\n",
              "      <th>Product</th>\n",
              "      <th>ConsumerComplaint</th>\n",
              "      <th>category_id</th>\n",
              "    </tr>\n",
              "  </thead>\n",
              "  <tbody>\n",
              "    <tr>\n",
              "      <th>4982</th>\n",
              "      <td>Debt collection</td>\n",
              "      <td>left multiple vocie message advising serving l...</td>\n",
              "      <td>2</td>\n",
              "    </tr>\n",
              "    <tr>\n",
              "      <th>4272</th>\n",
              "      <td>Debt collection</td>\n",
              "      <td>went another cell carrier received invoice pay...</td>\n",
              "      <td>2</td>\n",
              "    </tr>\n",
              "    <tr>\n",
              "      <th>6500</th>\n",
              "      <td>Bank account or service</td>\n",
              "      <td>presented check chase mobile deposit received ...</td>\n",
              "      <td>6</td>\n",
              "    </tr>\n",
              "    <tr>\n",
              "      <th>9597</th>\n",
              "      <td>Credit reporting</td>\n",
              "      <td>transunion credit report service following acc...</td>\n",
              "      <td>0</td>\n",
              "    </tr>\n",
              "    <tr>\n",
              "      <th>3457</th>\n",
              "      <td>Debt collection</td>\n",
              "      <td>trans world systems contacted regarding debts ...</td>\n",
              "      <td>2</td>\n",
              "    </tr>\n",
              "  </tbody>\n",
              "</table>\n",
              "</div>"
            ],
            "text/plain": [
              "                      Product  ... category_id\n",
              "4982          Debt collection  ...           2\n",
              "4272          Debt collection  ...           2\n",
              "6500  Bank account or service  ...           6\n",
              "9597         Credit reporting  ...           0\n",
              "3457          Debt collection  ...           2\n",
              "\n",
              "[5 rows x 3 columns]"
            ]
          },
          "metadata": {
            "tags": []
          },
          "execution_count": 22
        }
      ]
    },
    {
      "cell_type": "markdown",
      "metadata": {
        "id": "LGodV5Kn2KcX",
        "colab_type": "text"
      },
      "source": [
        "### Split the data into training and test sets"
      ]
    },
    {
      "cell_type": "code",
      "metadata": {
        "id": "sB7Otl8J2KcY",
        "colab_type": "code",
        "colab": {}
      },
      "source": [
        "# Split into X/y\n",
        "from sklearn.model_selection import train_test_split, cross_val_score\n",
        "\n",
        "x = dataset[\"ConsumerComplaint\"]\n",
        "y = dataset[\"category_id\"]\n",
        "\n",
        "x_train, x_test, y_train, y_test = train_test_split(x, y, test_size=0.2, random_state=0)"
      ],
      "execution_count": 0,
      "outputs": []
    },
    {
      "cell_type": "markdown",
      "metadata": {
        "id": "_mjk4Oq82Kcd",
        "colab_type": "text"
      },
      "source": [
        "### **Convert text features to numeric**\n",
        "\n",
        "The classifiers and learning algorithms can not directly process the text documents in their original form, as most of them expect numerical feature vectors with a fixed size rather than the raw text documents with variable length. Therefore, during the preprocessing step, the texts are converted to a more manageable representation.\n",
        "\n",
        "One common approach for extracting features from text is to use the bag of words model: a model where for each document, a complaint narrative in our case, the presence (and often the frequency) of words is taken into consideration, but the order in which they occur is ignored.\n",
        "\n",
        "Specifically, for each term in our dataset, we will calculate a measure called Term Frequency, Inverse Document Frequency, abbreviated to tf-idf. We will use sklearn.feature_extraction.text.TfidfVectorizer to calculate a tf-idf vector for each of consumer complaint narratives"
      ]
    },
    {
      "cell_type": "code",
      "metadata": {
        "id": "JHsTlvjl2Kce",
        "colab_type": "code",
        "outputId": "3e32bac1-1e15-44bc-c1d0-8e5f2355d22f",
        "colab": {
          "base_uri": "https://localhost:8080/",
          "height": 136
        }
      },
      "source": [
        "from sklearn.feature_extraction.text import TfidfVectorizer\n",
        "# sublinear_df is set to True to use a logarithmic form for frequency\n",
        "# min_df is the minimum numbers of documents a word must be present in to be kept\n",
        "# norm is set to l2, to ensure all our feature vectors have a euclidian norm of 1\n",
        "# ngram_range is set to (1, 2) to indicate that we want to consider both unigrams and bigrams\n",
        "# stop_words is set to \"english\" to remove all common pronouns (\"a\", \"the\", ...) to reduce the number of noisy features\n",
        "cv2 = TfidfVectorizer(sublinear_tf= True, min_df=10, norm='l2', ngram_range=(1, 2), stop_words='english')\n",
        "\n",
        "X_traincv = cv2.fit_transform(x_train)\n",
        "x_testcv = cv2.transform(x_test)\n",
        "print(X_traincv.toarray())"
      ],
      "execution_count": 24,
      "outputs": [
        {
          "output_type": "stream",
          "text": [
            "[[0.         0.         0.         ... 0.         0.         0.        ]\n",
            " [0.         0.         0.         ... 0.         0.         0.        ]\n",
            " [0.         0.         0.         ... 0.         0.         0.        ]\n",
            " ...\n",
            " [0.         0.         0.         ... 0.         0.         0.        ]\n",
            " [0.         0.         0.         ... 0.         0.         0.        ]\n",
            " [0.         0.16996648 0.         ... 0.         0.         0.        ]]\n"
          ],
          "name": "stdout"
        }
      ]
    },
    {
      "cell_type": "markdown",
      "metadata": {
        "id": "0dkTDXOF80Pc",
        "colab_type": "text"
      },
      "source": [
        "### **Build the model with the best estimator**"
      ]
    },
    {
      "cell_type": "code",
      "metadata": {
        "id": "KQt2VvYdAQNT",
        "colab_type": "code",
        "colab": {
          "base_uri": "https://localhost:8080/",
          "height": 680
        },
        "outputId": "7857eb5b-fd85-4262-ced9-4f9526544472"
      },
      "source": [
        "# Hyperparameter grid RandomizedSearchCV will search over\n",
        "\n",
        "from sklearn.ensemble import RandomForestClassifier\n",
        "from sklearn.svm import LinearSVC\n",
        "from sklearn import svm\n",
        "from sklearn.naive_bayes import MultinomialNB\n",
        "from sklearn.linear_model import SGDClassifier\n",
        "from sklearn.tree import DecisionTreeClassifier\n",
        "from sklearn.neighbors import KNeighborsClassifier\n",
        "\n",
        "from sklearn.metrics import accuracy_score\n",
        "from sklearn.model_selection import GridSearchCV\n",
        "\n",
        "# ignore ConvergenceWarnings\n",
        "from  warnings import simplefilter\n",
        "from sklearn.exceptions import ConvergenceWarning\n",
        "simplefilter(\"ignore\", category=ConvergenceWarning)\n",
        "\n",
        "models = [\n",
        "    { \"estimater\": KNeighborsClassifier(),\n",
        "      \"params\": {\n",
        "          \"n_neighbors\": [25,30,35,45],\n",
        "          \"weights\": ['uniform','distance'],\n",
        "          \"leaf_size\": [25,30,35]\n",
        "        }\n",
        "    },\n",
        "    { \"estimater\": DecisionTreeClassifier(),\n",
        "      \"params\": {\n",
        "          \"criterion\": ['gini','entropy'],\n",
        "          \"splitter\": ['best','random'],\n",
        "          \"max_depth\": [None,90,95,100],\n",
        "          \"max_features\": [None, \"auto\",\"sqrt\",\"log2\"],\n",
        "          \"random_state\": [42]\n",
        "      }\n",
        "    },\n",
        "    { \"estimater\": MultinomialNB(),\n",
        "      \"params\": {\n",
        "          \"fit_prior\": [True, False]    \n",
        "      }\n",
        "    },\n",
        "    { \"estimater\": LinearSVC(),\n",
        "      \"params\": {\n",
        "          \"loss\": ['hinge','squared_hinge'],\n",
        "          \"multi_class\": ['ovr', 'crammer_singer'],\n",
        "          \"fit_intercept\": [True, False],\n",
        "          \"random_state\": [42],\n",
        "          \"max_iter\": [900, 1000, 1100]\n",
        "      }\n",
        "    },\n",
        "    { \"estimater\": svm.SVC(),\n",
        "      \"params\": {\n",
        "          'C': [0.1,1, 10, 100, 1000], 'gamma': [1,0.1,0.01,0.001,0.0001], 'kernel': ['rbf']\n",
        "      }\n",
        "    },\n",
        "    { \"estimater\": RandomForestClassifier(),\n",
        "      \"params\": {\n",
        "      \"criterion\": ['gini','entropy'],\n",
        "      \"bootstrap\": [True, False],\n",
        "      \"max_depth\": [85,90,95,100],\n",
        "      \"max_features\": ['sqrt','log2'],\n",
        "      \"n_estimators\": [60, 80, 90],\n",
        "      \"random_state\": [42]\n",
        "      }\n",
        "    },\n",
        "    { \"estimater\": SGDClassifier(),\n",
        "      \"params\": {\n",
        "          \"loss\": ['hinge','log','perceptron'], \n",
        "          \"penalty\": ['l2', 'l1'], \n",
        "          \"alpha\": [0.0001, 0.0003, 0.0010],\n",
        "          \"early_stopping\": [True],\n",
        "          \"max_iter\": [1000, 1500],\n",
        "          \"random_state\": [42]\n",
        "      }\n",
        "    }\n",
        "]\n",
        "\n",
        "column_names = [\"KNeighbors\", \"DecisionTree\", \"MultiNB\", \"SVC\", \"SVM\", \"RFC\", \"SGDClassifier\"]\n",
        "entries = []\n",
        "\n",
        "highest_acc = 0\n",
        "best_model = None\n",
        "\n",
        "for model in models:\n",
        "  print(model[\"estimater\"])\n",
        "\n",
        "  # Create a based model\n",
        "  clf = model[\"estimater\"]\n",
        "  # Instantiate the grid search model\n",
        "  grid_search = GridSearchCV(estimator = clf, param_grid = model[\"params\"], \n",
        "                            cv = 3, n_jobs = 1)\n",
        "  # Fit the model\n",
        "  grid_search.fit(X_traincv, y_train);\n",
        "\n",
        "  # Make a prediction on the test split to find model accuracy\n",
        "  predicted = grid_search.predict(x_testcv)\n",
        "  acc = accuracy_score(predicted, y_test)\n",
        "  entries.append(acc)\n",
        "\n",
        "  print(grid_search.best_params_)\n",
        "\n",
        "  # If model have the highest accuracy, it's out best model\n",
        "  if acc > highest_acc:\n",
        "    highest_acc = acc\n",
        "    best_model = grid_search"
      ],
      "execution_count": 25,
      "outputs": [
        {
          "output_type": "stream",
          "text": [
            "KNeighborsClassifier(algorithm='auto', leaf_size=30, metric='minkowski',\n",
            "                     metric_params=None, n_jobs=None, n_neighbors=5, p=2,\n",
            "                     weights='uniform')\n",
            "{'leaf_size': 25, 'n_neighbors': 45, 'weights': 'distance'}\n",
            "DecisionTreeClassifier(ccp_alpha=0.0, class_weight=None, criterion='gini',\n",
            "                       max_depth=None, max_features=None, max_leaf_nodes=None,\n",
            "                       min_impurity_decrease=0.0, min_impurity_split=None,\n",
            "                       min_samples_leaf=1, min_samples_split=2,\n",
            "                       min_weight_fraction_leaf=0.0, presort='deprecated',\n",
            "                       random_state=None, splitter='best')\n",
            "{'criterion': 'entropy', 'max_depth': None, 'max_features': None, 'random_state': 42, 'splitter': 'best'}\n",
            "MultinomialNB(alpha=1.0, class_prior=None, fit_prior=True)\n",
            "{'fit_prior': False}\n",
            "LinearSVC(C=1.0, class_weight=None, dual=True, fit_intercept=True,\n",
            "          intercept_scaling=1, loss='squared_hinge', max_iter=1000,\n",
            "          multi_class='ovr', penalty='l2', random_state=None, tol=0.0001,\n",
            "          verbose=0)\n",
            "{'fit_intercept': True, 'loss': 'hinge', 'max_iter': 900, 'multi_class': 'ovr', 'random_state': 42}\n",
            "SVC(C=1.0, break_ties=False, cache_size=200, class_weight=None, coef0=0.0,\n",
            "    decision_function_shape='ovr', degree=3, gamma='scale', kernel='rbf',\n",
            "    max_iter=-1, probability=False, random_state=None, shrinking=True,\n",
            "    tol=0.001, verbose=False)\n",
            "{'C': 10, 'gamma': 1, 'kernel': 'rbf'}\n",
            "RandomForestClassifier(bootstrap=True, ccp_alpha=0.0, class_weight=None,\n",
            "                       criterion='gini', max_depth=None, max_features='auto',\n",
            "                       max_leaf_nodes=None, max_samples=None,\n",
            "                       min_impurity_decrease=0.0, min_impurity_split=None,\n",
            "                       min_samples_leaf=1, min_samples_split=2,\n",
            "                       min_weight_fraction_leaf=0.0, n_estimators=100,\n",
            "                       n_jobs=None, oob_score=False, random_state=None,\n",
            "                       verbose=0, warm_start=False)\n",
            "{'bootstrap': True, 'criterion': 'gini', 'max_depth': 85, 'max_features': 'sqrt', 'n_estimators': 60, 'random_state': 42}\n",
            "SGDClassifier(alpha=0.0001, average=False, class_weight=None,\n",
            "              early_stopping=False, epsilon=0.1, eta0=0.0, fit_intercept=True,\n",
            "              l1_ratio=0.15, learning_rate='optimal', loss='hinge',\n",
            "              max_iter=1000, n_iter_no_change=5, n_jobs=None, penalty='l2',\n",
            "              power_t=0.5, random_state=None, shuffle=True, tol=0.001,\n",
            "              validation_fraction=0.1, verbose=0, warm_start=False)\n",
            "{'alpha': 0.0003, 'early_stopping': True, 'loss': 'log', 'max_iter': 1000, 'penalty': 'l1', 'random_state': 42}\n"
          ],
          "name": "stdout"
        }
      ]
    },
    {
      "cell_type": "code",
      "metadata": {
        "id": "lCVNLq0-AjwB",
        "colab_type": "code",
        "colab": {
          "base_uri": "https://localhost:8080/",
          "height": 473
        },
        "outputId": "8b6f3902-d4b0-4f54-bce1-e8b771d73232"
      },
      "source": [
        "# Plotting each models performance\n",
        "\n",
        "import seaborn as sns\n",
        "import matplotlib.pyplot as plt\n",
        "plt.style.use('ggplot')\n",
        "plt.figure(figsize=(8, 5))\n",
        "\n",
        "df = pd.DataFrame({\"Estimater\": column_names, \n",
        "                   \"Accuracy\": entries\n",
        "                  })\n",
        "\n",
        "sns.barplot(x='Estimater', y='Accuracy', data=df)\n",
        "\n",
        "print(df)"
      ],
      "execution_count": 36,
      "outputs": [
        {
          "output_type": "stream",
          "text": [
            "       Estimater  Accuracy\n",
            "0     KNeighbors  0.845921\n",
            "1   DecisionTree  0.740181\n",
            "2        MultiNB  0.861027\n",
            "3            SVC  0.888218\n",
            "4            SVM  0.864048\n",
            "5            RFC  0.833837\n",
            "6  SGDClassifier  0.870091\n"
          ],
          "name": "stdout"
        },
        {
          "output_type": "display_data",
          "data": {
            "image/png": "[encoded data removed]",
            "text/plain": [
              "<Figure size 576x360 with 1 Axes>"
            ]
          },
          "metadata": {
            "tags": []
          }
        }
      ]
    },
    {
      "cell_type": "code",
      "metadata": {
        "id": "d-DhgkLB2Kcw",
        "colab_type": "code",
        "outputId": "5f627661-5461-4fdf-9078-70b8333fb9e5",
        "colab": {
          "base_uri": "https://localhost:8080/",
          "height": 187
        }
      },
      "source": [
        "# Use best estimater to build a model for predictions\n",
        "print(best_model.predict(x_testcv))\n",
        "print(best_model.score(x_testcv, y_test))"
      ],
      "execution_count": 27,
      "outputs": [
        {
          "output_type": "stream",
          "text": [
            "[0 3 0 2 2 2 2 2 6 3 0 6 2 2 0 0 3 3 0 0 0 2 6 3 3 0 3 0 0 2 2 3 0 6 6 2 2\n",
            " 6 0 2 2 6 0 2 7 2 7 2 2 2 6 3 6 6 0 3 0 0 2 3 2 0 3 2 2 3 3 3 6 6 3 3 3 2\n",
            " 2 0 2 7 0 3 2 0 2 0 3 2 2 0 2 3 6 3 3 2 2 3 2 2 2 6 3 2 0 7 0 2 3 3 2 2 3\n",
            " 2 2 2 3 2 2 7 2 3 7 2 0 0 3 0 2 2 7 2 3 2 0 3 6 3 3 3 3 6 3 7 3 0 2 0 6 0\n",
            " 0 0 0 2 3 3 2 6 3 0 3 2 0 3 2 0 3 0 2 3 7 7 2 6 2 2 3 3 3 0 3 0 2 7 2 2 2\n",
            " 6 3 6 2 0 2 3 0 0 3 3 0 3 2 6 6 0 6 3 2 0 3 2 2 0 2 0 3 7 6 2 2 2 2 7 3 2\n",
            " 3 7 2 0 2 3 3 2 0 3 3 2 0 6 2 0 6 2 3 2 0 2 2 3 3 2 6 2 2 2 2 0 3 3 0 0 2\n",
            " 0 0 0 0 3 6 2 3 0 0 0 3 0 2 2 2 2 2 6 0 3 6 7 3 2 0 2 2 0 2 3 2 0 0 2 2 3\n",
            " 0 7 0 2 2 6 2 0 2 0 3 3 0 6 2 7 2 6 0 6 3 2 6 6 0 0 3 3 6 7 3 2 3 3 0]\n",
            "0.8882175226586103\n"
          ],
          "name": "stdout"
        }
      ]
    },
    {
      "cell_type": "code",
      "metadata": {
        "id": "_kL1Z5f82Kc6",
        "colab_type": "code",
        "outputId": "48250c76-5ced-4f43-c6e8-88e583ede9ff",
        "colab": {
          "base_uri": "https://localhost:8080/",
          "height": 359
        }
      },
      "source": [
        "dataset.head(10)"
      ],
      "execution_count": 28,
      "outputs": [
        {
          "output_type": "execute_result",
          "data": {
            "text/html": [
              "<div>\n",
              "<style scoped>\n",
              "    .dataframe tbody tr th:only-of-type {\n",
              "        vertical-align: middle;\n",
              "    }\n",
              "\n",
              "    .dataframe tbody tr th {\n",
              "        vertical-align: top;\n",
              "    }\n",
              "\n",
              "    .dataframe thead th {\n",
              "        text-align: right;\n",
              "    }\n",
              "</style>\n",
              "<table border=\"1\" class=\"dataframe\">\n",
              "  <thead>\n",
              "    <tr style=\"text-align: right;\">\n",
              "      <th></th>\n",
              "      <th>Product</th>\n",
              "      <th>ConsumerComplaint</th>\n",
              "      <th>category_id</th>\n",
              "    </tr>\n",
              "  </thead>\n",
              "  <tbody>\n",
              "    <tr>\n",
              "      <th>4982</th>\n",
              "      <td>Debt collection</td>\n",
              "      <td>left multiple vocie message advising serving l...</td>\n",
              "      <td>2</td>\n",
              "    </tr>\n",
              "    <tr>\n",
              "      <th>4272</th>\n",
              "      <td>Debt collection</td>\n",
              "      <td>went another cell carrier received invoice pay...</td>\n",
              "      <td>2</td>\n",
              "    </tr>\n",
              "    <tr>\n",
              "      <th>6500</th>\n",
              "      <td>Bank account or service</td>\n",
              "      <td>presented check chase mobile deposit received ...</td>\n",
              "      <td>6</td>\n",
              "    </tr>\n",
              "    <tr>\n",
              "      <th>9597</th>\n",
              "      <td>Credit reporting</td>\n",
              "      <td>transunion credit report service following acc...</td>\n",
              "      <td>0</td>\n",
              "    </tr>\n",
              "    <tr>\n",
              "      <th>3457</th>\n",
              "      <td>Debt collection</td>\n",
              "      <td>trans world systems contacted regarding debts ...</td>\n",
              "      <td>2</td>\n",
              "    </tr>\n",
              "    <tr>\n",
              "      <th>6129</th>\n",
              "      <td>Debt collection</td>\n",
              "      <td>eempt federal laws protecting veterans company...</td>\n",
              "      <td>2</td>\n",
              "    </tr>\n",
              "    <tr>\n",
              "      <th>8334</th>\n",
              "      <td>Mortgage</td>\n",
              "      <td>home foreclosed sold via short sale green tree...</td>\n",
              "      <td>3</td>\n",
              "    </tr>\n",
              "    <tr>\n",
              "      <th>4542</th>\n",
              "      <td>Debt collection</td>\n",
              "      <td>correspondence construed way agreeing admittin...</td>\n",
              "      <td>2</td>\n",
              "    </tr>\n",
              "    <tr>\n",
              "      <th>6009</th>\n",
              "      <td>Debt collection</td>\n",
              "      <td>calls within hours snapshot calls phone sister...</td>\n",
              "      <td>2</td>\n",
              "    </tr>\n",
              "    <tr>\n",
              "      <th>3519</th>\n",
              "      <td>Student loan</td>\n",
              "      <td>currently repaying student loan american educa...</td>\n",
              "      <td>7</td>\n",
              "    </tr>\n",
              "  </tbody>\n",
              "</table>\n",
              "</div>"
            ],
            "text/plain": [
              "                      Product  ... category_id\n",
              "4982          Debt collection  ...           2\n",
              "4272          Debt collection  ...           2\n",
              "6500  Bank account or service  ...           6\n",
              "9597         Credit reporting  ...           0\n",
              "3457          Debt collection  ...           2\n",
              "6129          Debt collection  ...           2\n",
              "8334                 Mortgage  ...           3\n",
              "4542          Debt collection  ...           2\n",
              "6009          Debt collection  ...           2\n",
              "3519             Student loan  ...           7\n",
              "\n",
              "[10 rows x 3 columns]"
            ]
          },
          "metadata": {
            "tags": []
          },
          "execution_count": 28
        }
      ]
    },
    {
      "cell_type": "markdown",
      "metadata": {
        "id": "wROlKx_D2Kc_",
        "colab_type": "text"
      },
      "source": [
        "### Evaluation metrics"
      ]
    },
    {
      "cell_type": "code",
      "metadata": {
        "id": "ezLtyLJX2KdA",
        "colab_type": "code",
        "colab": {}
      },
      "source": [
        "from sklearn.metrics import accuracy_score, precision_score, recall_score, f1_score\n",
        "from sklearn.metrics import classification_report\n",
        "\n",
        "def evaluate_preds(y_true, y_preds):\n",
        "    \"\"\"\n",
        "    Performs evaluation comparison on y_true labels vs. y_pred labels\n",
        "    on a classification.\n",
        "    \"\"\"\n",
        "    accuracy = accuracy_score(y_true, y_preds)\n",
        "    precision = precision_score(y_true, y_preds, average='micro')\n",
        "    recall = recall_score(y_true, y_preds, average='micro')\n",
        "    f1 = f1_score(y_true, y_preds, average='micro')\n",
        "    metric_dict = {\"accuracy\": round(accuracy, 2),\n",
        "                   \"precision\": round(precision, 2),\n",
        "                   \"recall\": round(recall, 2),\n",
        "                   \"f1\": round(f1, 2)}\n",
        "    print(f\"Acc: {accuracy * 100:.2f}%\")\n",
        "    print(f\"Precision: {precision:.2f}\")\n",
        "    print(f\"Recall: {recall:.2f}\")\n",
        "    print(f\"F1 score: {f1:.2f}\")\n",
        "    \n",
        "    return metric_dict"
      ],
      "execution_count": 0,
      "outputs": []
    },
    {
      "cell_type": "code",
      "metadata": {
        "id": "-CGE3k3S2KdE",
        "colab_type": "code",
        "outputId": "cfdd076b-d2eb-4f83-ea0d-6639643586ef",
        "colab": {
          "base_uri": "https://localhost:8080/",
          "height": 102
        }
      },
      "source": [
        "predicted = best_model.predict(x_testcv)\n",
        "evaluate_preds(y_test, predicted)"
      ],
      "execution_count": 30,
      "outputs": [
        {
          "output_type": "stream",
          "text": [
            "Acc: 88.82%\n",
            "Precision: 0.89\n",
            "Recall: 0.89\n",
            "F1 score: 0.89\n"
          ],
          "name": "stdout"
        },
        {
          "output_type": "execute_result",
          "data": {
            "text/plain": [
              "{'accuracy': 0.89, 'f1': 0.89, 'precision': 0.89, 'recall': 0.89}"
            ]
          },
          "metadata": {
            "tags": []
          },
          "execution_count": 30
        }
      ]
    },
    {
      "cell_type": "code",
      "metadata": {
        "id": "Ww3EdIj22KdM",
        "colab_type": "code",
        "outputId": "4282093e-78e5-4133-bb2b-cb714ae29d72",
        "colab": {
          "base_uri": "https://localhost:8080/",
          "height": 204
        }
      },
      "source": [
        "uniques = dataset.drop('ConsumerComplaint', axis=1)\n",
        "unique_labels = uniques.drop_duplicates()\n",
        "unique_labels"
      ],
      "execution_count": 31,
      "outputs": [
        {
          "output_type": "execute_result",
          "data": {
            "text/html": [
              "<div>\n",
              "<style scoped>\n",
              "    .dataframe tbody tr th:only-of-type {\n",
              "        vertical-align: middle;\n",
              "    }\n",
              "\n",
              "    .dataframe tbody tr th {\n",
              "        vertical-align: top;\n",
              "    }\n",
              "\n",
              "    .dataframe thead th {\n",
              "        text-align: right;\n",
              "    }\n",
              "</style>\n",
              "<table border=\"1\" class=\"dataframe\">\n",
              "  <thead>\n",
              "    <tr style=\"text-align: right;\">\n",
              "      <th></th>\n",
              "      <th>Product</th>\n",
              "      <th>category_id</th>\n",
              "    </tr>\n",
              "  </thead>\n",
              "  <tbody>\n",
              "    <tr>\n",
              "      <th>4982</th>\n",
              "      <td>Debt collection</td>\n",
              "      <td>2</td>\n",
              "    </tr>\n",
              "    <tr>\n",
              "      <th>6500</th>\n",
              "      <td>Bank account or service</td>\n",
              "      <td>6</td>\n",
              "    </tr>\n",
              "    <tr>\n",
              "      <th>9597</th>\n",
              "      <td>Credit reporting</td>\n",
              "      <td>0</td>\n",
              "    </tr>\n",
              "    <tr>\n",
              "      <th>8334</th>\n",
              "      <td>Mortgage</td>\n",
              "      <td>3</td>\n",
              "    </tr>\n",
              "    <tr>\n",
              "      <th>3519</th>\n",
              "      <td>Student loan</td>\n",
              "      <td>7</td>\n",
              "    </tr>\n",
              "  </tbody>\n",
              "</table>\n",
              "</div>"
            ],
            "text/plain": [
              "                      Product  category_id\n",
              "4982          Debt collection            2\n",
              "6500  Bank account or service            6\n",
              "9597         Credit reporting            0\n",
              "8334                 Mortgage            3\n",
              "3519             Student loan            7"
            ]
          },
          "metadata": {
            "tags": []
          },
          "execution_count": 31
        }
      ]
    },
    {
      "cell_type": "code",
      "metadata": {
        "id": "Xes2fJsm2KdV",
        "colab_type": "code",
        "outputId": "6f66a690-45fc-4729-e482-decff17c406e",
        "colab": {
          "base_uri": "https://localhost:8080/",
          "height": 221
        }
      },
      "source": [
        "from sklearn import metrics\n",
        "print(metrics.classification_report(y_test, predicted, \n",
        "                                    target_names=dataset['Product'].unique()))"
      ],
      "execution_count": 32,
      "outputs": [
        {
          "output_type": "stream",
          "text": [
            "                         precision    recall  f1-score   support\n",
            "\n",
            "        Debt collection       0.84      0.90      0.87        73\n",
            "Bank account or service       0.88      0.90      0.89       110\n",
            "       Credit reporting       0.90      0.96      0.93        79\n",
            "               Mortgage       0.95      0.84      0.89        43\n",
            "           Student loan       0.94      0.65      0.77        26\n",
            "\n",
            "               accuracy                           0.89       331\n",
            "              macro avg       0.90      0.85      0.87       331\n",
            "           weighted avg       0.89      0.89      0.89       331\n",
            "\n"
          ],
          "name": "stdout"
        }
      ]
    },
    {
      "cell_type": "markdown",
      "metadata": {
        "id": "kgSD77wO2KdV",
        "colab_type": "text"
      },
      "source": [
        "* ***Accuracy*** is a good measure to start with if all classes are balanced (e.g. same amount of samples which are labelled with 0 or 1).\n",
        "* ***Precision*** and ***recall*** become more important when classes are imbalanced.\n",
        "If false positive predictions are worse than false negatives, aim for higher precision.\n",
        "If false negative predictions are worse than false positives, aim for higher recall.\n",
        "* ***F1-score*** is a combination of precision and recall."
      ]
    },
    {
      "cell_type": "code",
      "metadata": {
        "id": "XoAmAs3O2Kda",
        "colab_type": "code",
        "outputId": "b6ad690a-fbad-4f8d-94e0-2050a5ace35f",
        "colab": {
          "base_uri": "https://localhost:8080/",
          "height": 235
        }
      },
      "source": [
        "# Visualize confusion matrix with pd.crosstab()\n",
        "pd.crosstab(y_test,\n",
        "            predicted,\n",
        "            rownames=[\"Actual Labels\"],\n",
        "            colnames=[\"Predicted Labels\"])"
      ],
      "execution_count": 33,
      "outputs": [
        {
          "output_type": "execute_result",
          "data": {
            "text/html": [
              "<div>\n",
              "<style scoped>\n",
              "    .dataframe tbody tr th:only-of-type {\n",
              "        vertical-align: middle;\n",
              "    }\n",
              "\n",
              "    .dataframe tbody tr th {\n",
              "        vertical-align: top;\n",
              "    }\n",
              "\n",
              "    .dataframe thead th {\n",
              "        text-align: right;\n",
              "    }\n",
              "</style>\n",
              "<table border=\"1\" class=\"dataframe\">\n",
              "  <thead>\n",
              "    <tr style=\"text-align: right;\">\n",
              "      <th>Predicted Labels</th>\n",
              "      <th>0</th>\n",
              "      <th>2</th>\n",
              "      <th>3</th>\n",
              "      <th>6</th>\n",
              "      <th>7</th>\n",
              "    </tr>\n",
              "    <tr>\n",
              "      <th>Actual Labels</th>\n",
              "      <th></th>\n",
              "      <th></th>\n",
              "      <th></th>\n",
              "      <th></th>\n",
              "      <th></th>\n",
              "    </tr>\n",
              "  </thead>\n",
              "  <tbody>\n",
              "    <tr>\n",
              "      <th>0</th>\n",
              "      <td>66</td>\n",
              "      <td>5</td>\n",
              "      <td>0</td>\n",
              "      <td>1</td>\n",
              "      <td>1</td>\n",
              "    </tr>\n",
              "    <tr>\n",
              "      <th>2</th>\n",
              "      <td>6</td>\n",
              "      <td>99</td>\n",
              "      <td>4</td>\n",
              "      <td>1</td>\n",
              "      <td>0</td>\n",
              "    </tr>\n",
              "    <tr>\n",
              "      <th>3</th>\n",
              "      <td>3</td>\n",
              "      <td>0</td>\n",
              "      <td>76</td>\n",
              "      <td>0</td>\n",
              "      <td>0</td>\n",
              "    </tr>\n",
              "    <tr>\n",
              "      <th>6</th>\n",
              "      <td>1</td>\n",
              "      <td>4</td>\n",
              "      <td>2</td>\n",
              "      <td>36</td>\n",
              "      <td>0</td>\n",
              "    </tr>\n",
              "    <tr>\n",
              "      <th>7</th>\n",
              "      <td>3</td>\n",
              "      <td>4</td>\n",
              "      <td>2</td>\n",
              "      <td>0</td>\n",
              "      <td>17</td>\n",
              "    </tr>\n",
              "  </tbody>\n",
              "</table>\n",
              "</div>"
            ],
            "text/plain": [
              "Predicted Labels   0   2   3   6   7\n",
              "Actual Labels                       \n",
              "0                 66   5   0   1   1\n",
              "2                  6  99   4   1   0\n",
              "3                  3   0  76   0   0\n",
              "6                  1   4   2  36   0\n",
              "7                  3   4   2   0  17"
            ]
          },
          "metadata": {
            "tags": []
          },
          "execution_count": 33
        }
      ]
    },
    {
      "cell_type": "code",
      "metadata": {
        "id": "nOvdwY_yzlrx",
        "colab_type": "code",
        "colab": {
          "base_uri": "https://localhost:8080/",
          "height": 501
        },
        "outputId": "a89912e8-ec5e-4a96-90f5-595c840e10a2"
      },
      "source": [
        "from sklearn.metrics import confusion_matrix\n",
        "\n",
        "conf_mat = confusion_matrix(y_test, predicted)\n",
        "fig, ax = plt.subplots(figsize=(8,6))\n",
        "sns.heatmap(conf_mat, annot=True, fmt='d',\n",
        "            xticklabels=dataset.Product.unique(), yticklabels=dataset.Product.unique())\n",
        "plt.ylabel('Actual')\n",
        "plt.xlabel('Predicted')\n",
        "plt.show()"
      ],
      "execution_count": 37,
      "outputs": [
        {
          "output_type": "display_data",
          "data": {
            "image/png": "[encoded data removed]",
            "text/plain": [
              "<Figure size 576x432 with 2 Axes>"
            ]
          },
          "metadata": {
            "tags": []
          }
        }
      ]
    },
    {
      "cell_type": "code",
      "metadata": {
        "id": "ZTdYO09jhEuc",
        "colab_type": "code",
        "colab": {
          "base_uri": "https://localhost:8080/",
          "height": 204
        },
        "outputId": "2e761ffa-2c78-4adc-e3a5-0a4b800fac19"
      },
      "source": [
        "uniques = dataset.drop('ConsumerComplaint', axis=1)\n",
        "unique_labels = uniques.drop_duplicates()\n",
        "unique_labels"
      ],
      "execution_count": 40,
      "outputs": [
        {
          "output_type": "execute_result",
          "data": {
            "text/html": [
              "<div>\n",
              "<style scoped>\n",
              "    .dataframe tbody tr th:only-of-type {\n",
              "        vertical-align: middle;\n",
              "    }\n",
              "\n",
              "    .dataframe tbody tr th {\n",
              "        vertical-align: top;\n",
              "    }\n",
              "\n",
              "    .dataframe thead th {\n",
              "        text-align: right;\n",
              "    }\n",
              "</style>\n",
              "<table border=\"1\" class=\"dataframe\">\n",
              "  <thead>\n",
              "    <tr style=\"text-align: right;\">\n",
              "      <th></th>\n",
              "      <th>Product</th>\n",
              "      <th>category_id</th>\n",
              "    </tr>\n",
              "  </thead>\n",
              "  <tbody>\n",
              "    <tr>\n",
              "      <th>1</th>\n",
              "      <td>Credit reporting</td>\n",
              "      <td>0</td>\n",
              "    </tr>\n",
              "    <tr>\n",
              "      <th>12</th>\n",
              "      <td>Debt collection</td>\n",
              "      <td>2</td>\n",
              "    </tr>\n",
              "    <tr>\n",
              "      <th>25</th>\n",
              "      <td>Mortgage</td>\n",
              "      <td>3</td>\n",
              "    </tr>\n",
              "    <tr>\n",
              "      <th>124</th>\n",
              "      <td>Bank account or service</td>\n",
              "      <td>6</td>\n",
              "    </tr>\n",
              "    <tr>\n",
              "      <th>152</th>\n",
              "      <td>Student loan</td>\n",
              "      <td>7</td>\n",
              "    </tr>\n",
              "  </tbody>\n",
              "</table>\n",
              "</div>"
            ],
            "text/plain": [
              "                     Product  category_id\n",
              "1           Credit reporting            0\n",
              "12           Debt collection            2\n",
              "25                  Mortgage            3\n",
              "124  Bank account or service            6\n",
              "152             Student loan            7"
            ]
          },
          "metadata": {
            "tags": []
          },
          "execution_count": 40
        }
      ]
    },
    {
      "cell_type": "code",
      "metadata": {
        "id": "A2ZAXSaWzSS8",
        "colab_type": "code",
        "colab": {
          "base_uri": "https://localhost:8080/",
          "height": 68
        },
        "outputId": "014e5a3e-d564-454b-e123-c63c901e004f"
      },
      "source": [
        "inputStr = cv2.transform([\"I need to finance my student loan please\"])\n",
        "results = best_model.predict(inputStr )\n",
        "\n",
        "print(f'Product category id: {results[0]}')\n",
        "print(f'Product Name: { np.asarray(unique_labels[unique_labels.category_id.eq(results[0])])[0][0] }')\n",
        "print(f'Accuracy score: { acc.max() * 100}')"
      ],
      "execution_count": 44,
      "outputs": [
        {
          "output_type": "stream",
          "text": [
            "Product category id: 7\n",
            "Product Name: Student loan\n",
            "Accuracy score: 87.00906344410876\n"
          ],
          "name": "stdout"
        }
      ]
    },
    {
      "cell_type": "code",
      "metadata": {
        "id": "9lioF2DigmVy",
        "colab_type": "code",
        "colab": {}
      },
      "source": [
        ""
      ],
      "execution_count": 0,
      "outputs": []
    }
  ]
}